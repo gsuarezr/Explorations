{
 "cells": [
  {
   "cell_type": "markdown",
   "metadata": {},
   "source": [
    "### Historical Data"
   ]
  },
  {
   "cell_type": "code",
   "execution_count": 1,
   "metadata": {},
   "outputs": [
    {
     "name": "stdout",
     "output_type": "stream",
     "text": [
      "Requirement already satisfied: yfinance[optional] in /home/mcditoos/anaconda3/envs/trading/lib/python3.12/site-packages (0.2.36)\n",
      "\u001b[33mWARNING: yfinance 0.2.36 does not provide the extra 'optional'\u001b[0m\u001b[33m\n",
      "\u001b[0mRequirement already satisfied: pandas>=1.3.0 in /home/mcditoos/anaconda3/envs/trading/lib/python3.12/site-packages (from yfinance[optional]) (2.2.0)\n",
      "Requirement already satisfied: numpy>=1.16.5 in /home/mcditoos/anaconda3/envs/trading/lib/python3.12/site-packages (from yfinance[optional]) (1.26.4)\n",
      "Requirement already satisfied: requests>=2.31 in /home/mcditoos/anaconda3/envs/trading/lib/python3.12/site-packages (from yfinance[optional]) (2.31.0)\n",
      "Requirement already satisfied: multitasking>=0.0.7 in /home/mcditoos/anaconda3/envs/trading/lib/python3.12/site-packages (from yfinance[optional]) (0.0.11)\n",
      "Requirement already satisfied: lxml>=4.9.1 in /home/mcditoos/anaconda3/envs/trading/lib/python3.12/site-packages (from yfinance[optional]) (4.9.4)\n",
      "Requirement already satisfied: appdirs>=1.4.4 in /home/mcditoos/anaconda3/envs/trading/lib/python3.12/site-packages (from yfinance[optional]) (1.4.4)\n",
      "Requirement already satisfied: pytz>=2022.5 in /home/mcditoos/anaconda3/envs/trading/lib/python3.12/site-packages (from yfinance[optional]) (2024.1)\n",
      "Requirement already satisfied: frozendict>=2.3.4 in /home/mcditoos/anaconda3/envs/trading/lib/python3.12/site-packages (from yfinance[optional]) (2.4.0)\n",
      "Requirement already satisfied: peewee>=3.16.2 in /home/mcditoos/anaconda3/envs/trading/lib/python3.12/site-packages (from yfinance[optional]) (3.17.1)\n",
      "Requirement already satisfied: beautifulsoup4>=4.11.1 in /home/mcditoos/anaconda3/envs/trading/lib/python3.12/site-packages (from yfinance[optional]) (4.12.3)\n",
      "Requirement already satisfied: html5lib>=1.1 in /home/mcditoos/anaconda3/envs/trading/lib/python3.12/site-packages (from yfinance[optional]) (1.1)\n",
      "Requirement already satisfied: soupsieve>1.2 in /home/mcditoos/anaconda3/envs/trading/lib/python3.12/site-packages (from beautifulsoup4>=4.11.1->yfinance[optional]) (2.5)\n",
      "Requirement already satisfied: six>=1.9 in /home/mcditoos/anaconda3/envs/trading/lib/python3.12/site-packages (from html5lib>=1.1->yfinance[optional]) (1.16.0)\n",
      "Requirement already satisfied: webencodings in /home/mcditoos/anaconda3/envs/trading/lib/python3.12/site-packages (from html5lib>=1.1->yfinance[optional]) (0.5.1)\n",
      "Requirement already satisfied: python-dateutil>=2.8.2 in /home/mcditoos/anaconda3/envs/trading/lib/python3.12/site-packages (from pandas>=1.3.0->yfinance[optional]) (2.8.2)\n",
      "Requirement already satisfied: tzdata>=2022.7 in /home/mcditoos/anaconda3/envs/trading/lib/python3.12/site-packages (from pandas>=1.3.0->yfinance[optional]) (2024.1)\n",
      "Requirement already satisfied: charset-normalizer<4,>=2 in /home/mcditoos/anaconda3/envs/trading/lib/python3.12/site-packages (from requests>=2.31->yfinance[optional]) (3.3.2)\n",
      "Requirement already satisfied: idna<4,>=2.5 in /home/mcditoos/anaconda3/envs/trading/lib/python3.12/site-packages (from requests>=2.31->yfinance[optional]) (3.6)\n",
      "Requirement already satisfied: urllib3<3,>=1.21.1 in /home/mcditoos/anaconda3/envs/trading/lib/python3.12/site-packages (from requests>=2.31->yfinance[optional]) (2.2.1)\n",
      "Requirement already satisfied: certifi>=2017.4.17 in /home/mcditoos/anaconda3/envs/trading/lib/python3.12/site-packages (from requests>=2.31->yfinance[optional]) (2024.2.2)\n"
     ]
    }
   ],
   "source": [
    "\n",
    "tickers = yf.Tickers('msft aapl goog')"
   ]
  },
  {
   "cell_type": "code",
   "execution_count": 1,
   "metadata": {},
   "outputs": [],
   "source": [
    "import pandas as pd"
   ]
  },
  {
   "cell_type": "code",
   "execution_count": 2,
   "metadata": {},
   "outputs": [],
   "source": [
    "file='2022_gerardo.xml'"
   ]
  },
  {
   "cell_type": "code",
   "execution_count": 3,
   "metadata": {},
   "outputs": [],
   "source": [
    "from ibkr import TOKEN,QUERYID, IBKR"
   ]
  },
  {
   "cell_type": "code",
   "execution_count": 4,
   "metadata": {},
   "outputs": [],
   "source": [
    "ibkr=IBKR(TOKEN,QUERYID,file=file)"
   ]
  },
  {
   "cell_type": "code",
   "execution_count": 5,
   "metadata": {},
   "outputs": [],
   "source": [
    "ibkr.get_data()"
   ]
  },
  {
   "cell_type": "code",
   "execution_count": 6,
   "metadata": {},
   "outputs": [
    {
     "name": "stdout",
     "output_type": "stream",
     "text": [
      "{'FlexQueryResponse', 'FxTransaction', 'ChangeInDividendAccrual', 'Trade', 'EquitySummaryByReportDateInBase', 'ChangeInPositionValue', 'FlexStatements', 'FlexStatement', 'CorporateAction', 'CashTransaction', 'OpenPosition', 'Transfer'}\n"
     ]
    },
    {
     "ename": "KeyError",
     "evalue": "\"['fxRateToBase', 'fifoPnlRealized'] not in index\"",
     "output_type": "error",
     "traceback": [
      "\u001b[0;31m---------------------------------------------------------------------------\u001b[0m",
      "\u001b[0;31mKeyError\u001b[0m                                  Traceback (most recent call last)",
      "Cell \u001b[0;32mIn[6], line 3\u001b[0m\n\u001b[1;32m      1\u001b[0m ibkr\u001b[38;5;241m.\u001b[39mget_data()\n\u001b[1;32m      2\u001b[0m ibkr\u001b[38;5;241m.\u001b[39mparse_data()\n\u001b[0;32m----> 3\u001b[0m \u001b[43mibkr\u001b[49m\u001b[38;5;241;43m.\u001b[39;49m\u001b[43mget_trades\u001b[49m\u001b[43m(\u001b[49m\u001b[43m)\u001b[49m\n\u001b[1;32m      4\u001b[0m ibkr\u001b[38;5;241m.\u001b[39mget_dividends()\n\u001b[1;32m      5\u001b[0m div \u001b[38;5;241m=\u001b[39m ibkr\u001b[38;5;241m.\u001b[39mdividends\n",
      "File \u001b[0;32m~/PhD/Side_projects/stock_screener/ibkr.py:172\u001b[0m, in \u001b[0;36mIBKR.get_trades\u001b[0;34m(self)\u001b[0m\n\u001b[1;32m    160\u001b[0m trades \u001b[38;5;241m=\u001b[39m \u001b[38;5;28mself\u001b[39m\u001b[38;5;241m.\u001b[39mget_bytag(\u001b[38;5;124m\"\u001b[39m\u001b[38;5;124mTrade\u001b[39m\u001b[38;5;124m\"\u001b[39m)\n\u001b[1;32m    161\u001b[0m wanted_fields \u001b[38;5;241m=\u001b[39m [\n\u001b[1;32m    162\u001b[0m     \u001b[38;5;124m\"\u001b[39m\u001b[38;5;124mtradeDate\u001b[39m\u001b[38;5;124m\"\u001b[39m,\n\u001b[1;32m    163\u001b[0m     \u001b[38;5;124m\"\u001b[39m\u001b[38;5;124mcurrency\u001b[39m\u001b[38;5;124m\"\u001b[39m,\n\u001b[0;32m   (...)\u001b[0m\n\u001b[1;32m    170\u001b[0m     \u001b[38;5;124m\"\u001b[39m\u001b[38;5;124mfifoPnlRealized\u001b[39m\u001b[38;5;124m\"\u001b[39m,\n\u001b[1;32m    171\u001b[0m ]\n\u001b[0;32m--> 172\u001b[0m frame \u001b[38;5;241m=\u001b[39m \u001b[43mpd\u001b[49m\u001b[38;5;241;43m.\u001b[39;49m\u001b[43mDataFrame\u001b[49m\u001b[38;5;241;43m.\u001b[39;49m\u001b[43mfrom_dict\u001b[49m\u001b[43m(\u001b[49m\u001b[43mtrades\u001b[49m\u001b[43m)\u001b[49m\u001b[43m[\u001b[49m\u001b[43mwanted_fields\u001b[49m\u001b[43m]\u001b[49m\n\u001b[1;32m    173\u001b[0m \u001b[38;5;28mself\u001b[39m\u001b[38;5;241m.\u001b[39mremove_rows_with_value(frame, \u001b[38;5;124m\"\u001b[39m\u001b[38;5;124msymbol\u001b[39m\u001b[38;5;124m\"\u001b[39m, \u001b[38;5;124m\"\u001b[39m\u001b[38;5;124mUSD.MXN\u001b[39m\u001b[38;5;124m\"\u001b[39m)\n\u001b[1;32m    174\u001b[0m \u001b[38;5;28mself\u001b[39m\u001b[38;5;241m.\u001b[39mremove_rows_with_value(frame, \u001b[38;5;124m\"\u001b[39m\u001b[38;5;124msymbol\u001b[39m\u001b[38;5;124m\"\u001b[39m, \u001b[38;5;124m\"\u001b[39m\u001b[38;5;124mEUR.USD\u001b[39m\u001b[38;5;124m\"\u001b[39m)\n",
      "File \u001b[0;32m~/anaconda3/envs/trading/lib/python3.12/site-packages/pandas/core/frame.py:4096\u001b[0m, in \u001b[0;36mDataFrame.__getitem__\u001b[0;34m(self, key)\u001b[0m\n\u001b[1;32m   4094\u001b[0m     \u001b[38;5;28;01mif\u001b[39;00m is_iterator(key):\n\u001b[1;32m   4095\u001b[0m         key \u001b[38;5;241m=\u001b[39m \u001b[38;5;28mlist\u001b[39m(key)\n\u001b[0;32m-> 4096\u001b[0m     indexer \u001b[38;5;241m=\u001b[39m \u001b[38;5;28;43mself\u001b[39;49m\u001b[38;5;241;43m.\u001b[39;49m\u001b[43mcolumns\u001b[49m\u001b[38;5;241;43m.\u001b[39;49m\u001b[43m_get_indexer_strict\u001b[49m\u001b[43m(\u001b[49m\u001b[43mkey\u001b[49m\u001b[43m,\u001b[49m\u001b[43m \u001b[49m\u001b[38;5;124;43m\"\u001b[39;49m\u001b[38;5;124;43mcolumns\u001b[39;49m\u001b[38;5;124;43m\"\u001b[39;49m\u001b[43m)\u001b[49m[\u001b[38;5;241m1\u001b[39m]\n\u001b[1;32m   4098\u001b[0m \u001b[38;5;66;03m# take() does not accept boolean indexers\u001b[39;00m\n\u001b[1;32m   4099\u001b[0m \u001b[38;5;28;01mif\u001b[39;00m \u001b[38;5;28mgetattr\u001b[39m(indexer, \u001b[38;5;124m\"\u001b[39m\u001b[38;5;124mdtype\u001b[39m\u001b[38;5;124m\"\u001b[39m, \u001b[38;5;28;01mNone\u001b[39;00m) \u001b[38;5;241m==\u001b[39m \u001b[38;5;28mbool\u001b[39m:\n",
      "File \u001b[0;32m~/anaconda3/envs/trading/lib/python3.12/site-packages/pandas/core/indexes/base.py:6199\u001b[0m, in \u001b[0;36mIndex._get_indexer_strict\u001b[0;34m(self, key, axis_name)\u001b[0m\n\u001b[1;32m   6196\u001b[0m \u001b[38;5;28;01melse\u001b[39;00m:\n\u001b[1;32m   6197\u001b[0m     keyarr, indexer, new_indexer \u001b[38;5;241m=\u001b[39m \u001b[38;5;28mself\u001b[39m\u001b[38;5;241m.\u001b[39m_reindex_non_unique(keyarr)\n\u001b[0;32m-> 6199\u001b[0m \u001b[38;5;28;43mself\u001b[39;49m\u001b[38;5;241;43m.\u001b[39;49m\u001b[43m_raise_if_missing\u001b[49m\u001b[43m(\u001b[49m\u001b[43mkeyarr\u001b[49m\u001b[43m,\u001b[49m\u001b[43m \u001b[49m\u001b[43mindexer\u001b[49m\u001b[43m,\u001b[49m\u001b[43m \u001b[49m\u001b[43maxis_name\u001b[49m\u001b[43m)\u001b[49m\n\u001b[1;32m   6201\u001b[0m keyarr \u001b[38;5;241m=\u001b[39m \u001b[38;5;28mself\u001b[39m\u001b[38;5;241m.\u001b[39mtake(indexer)\n\u001b[1;32m   6202\u001b[0m \u001b[38;5;28;01mif\u001b[39;00m \u001b[38;5;28misinstance\u001b[39m(key, Index):\n\u001b[1;32m   6203\u001b[0m     \u001b[38;5;66;03m# GH 42790 - Preserve name from an Index\u001b[39;00m\n",
      "File \u001b[0;32m~/anaconda3/envs/trading/lib/python3.12/site-packages/pandas/core/indexes/base.py:6251\u001b[0m, in \u001b[0;36mIndex._raise_if_missing\u001b[0;34m(self, key, indexer, axis_name)\u001b[0m\n\u001b[1;32m   6248\u001b[0m     \u001b[38;5;28;01mraise\u001b[39;00m \u001b[38;5;167;01mKeyError\u001b[39;00m(\u001b[38;5;124mf\u001b[39m\u001b[38;5;124m\"\u001b[39m\u001b[38;5;124mNone of [\u001b[39m\u001b[38;5;132;01m{\u001b[39;00mkey\u001b[38;5;132;01m}\u001b[39;00m\u001b[38;5;124m] are in the [\u001b[39m\u001b[38;5;132;01m{\u001b[39;00maxis_name\u001b[38;5;132;01m}\u001b[39;00m\u001b[38;5;124m]\u001b[39m\u001b[38;5;124m\"\u001b[39m)\n\u001b[1;32m   6250\u001b[0m not_found \u001b[38;5;241m=\u001b[39m \u001b[38;5;28mlist\u001b[39m(ensure_index(key)[missing_mask\u001b[38;5;241m.\u001b[39mnonzero()[\u001b[38;5;241m0\u001b[39m]]\u001b[38;5;241m.\u001b[39munique())\n\u001b[0;32m-> 6251\u001b[0m \u001b[38;5;28;01mraise\u001b[39;00m \u001b[38;5;167;01mKeyError\u001b[39;00m(\u001b[38;5;124mf\u001b[39m\u001b[38;5;124m\"\u001b[39m\u001b[38;5;132;01m{\u001b[39;00mnot_found\u001b[38;5;132;01m}\u001b[39;00m\u001b[38;5;124m not in index\u001b[39m\u001b[38;5;124m\"\u001b[39m)\n",
      "\u001b[0;31mKeyError\u001b[0m: \"['fxRateToBase', 'fifoPnlRealized'] not in index\""
     ]
    }
   ],
   "source": [
    "ibkr.get_data()\n",
    "ibkr.parse_data()\n",
    "ibkr.get_trades()\n",
    "ibkr.get_dividends()\n",
    "div = ibkr.dividends\n",
    "ibkr.get_current_porfolio()\n",
    "data = ibkr.portfolio"
   ]
  },
  {
   "cell_type": "markdown",
   "metadata": {},
   "source": [
    "Probably the XML does not contain it, need to check the query"
   ]
  },
  {
   "cell_type": "markdown",
   "metadata": {},
   "source": []
  }
 ],
 "metadata": {
  "kernelspec": {
   "display_name": "trading",
   "language": "python",
   "name": "python3"
  },
  "language_info": {
   "codemirror_mode": {
    "name": "ipython",
    "version": 3
   },
   "file_extension": ".py",
   "mimetype": "text/x-python",
   "name": "python",
   "nbconvert_exporter": "python",
   "pygments_lexer": "ipython3",
   "version": "3.12.0"
  }
 },
 "nbformat": 4,
 "nbformat_minor": 2
}
