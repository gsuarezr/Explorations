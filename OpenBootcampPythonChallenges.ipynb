{
 "cells": [
  {
   "cell_type": "code",
   "execution_count": 1,
   "id": "8519a8d1",
   "metadata": {},
   "outputs": [],
   "source": [
    "import primero as p\n",
    "import segundo as s\n",
    "import tercero as t"
   ]
  },
  {
   "cell_type": "markdown",
   "id": "6af2384a",
   "metadata": {},
   "source": [
    "# Mostramos el uso de la funcion principal del reto 1, el output es un tuple el primer elemento es una lista de los numeros invertidos en el rango y el segundo la cantidad de numeros invertidos en el mismo"
   ]
  },
  {
   "cell_type": "code",
   "execution_count": 2,
   "id": "920599bd",
   "metadata": {},
   "outputs": [
    {
     "data": {
      "text/plain": [
       "([1, 8, 11, 69, 88, 96, 101, 111, 181], 9)"
      ]
     },
     "execution_count": 2,
     "metadata": {},
     "output_type": "execute_result"
    }
   ],
   "source": [
    "num1=1\n",
    "num2=200\n",
    "p.reto1(num1,num2)"
   ]
  },
  {
   "cell_type": "code",
   "execution_count": 3,
   "id": "f61c3f8a",
   "metadata": {},
   "outputs": [
    {
     "ename": "NameError",
     "evalue": "Se ingreso un numero no valido el primer numero debe ser menor al segundo",
     "output_type": "error",
     "traceback": [
      "\u001b[0;31m---------------------------------------------------------------------------\u001b[0m",
      "\u001b[0;31mNameError\u001b[0m                                 Traceback (most recent call last)",
      "\u001b[1;32m/mnt/c/Users/gerar/OneDrive - University of Gdansk (for Students)/new/OpenBootcampPythonChallenges.ipynb Cell 4'\u001b[0m in \u001b[0;36m<cell line: 1>\u001b[0;34m()\u001b[0m\n\u001b[0;32m----> <a href='vscode-notebook-cell://wsl%2Bubuntu/mnt/c/Users/gerar/OneDrive%20-%20University%20of%20Gdansk%20%28for%20Students%29/new/OpenBootcampPythonChallenges.ipynb#ch0000044vscode-remote?line=0'>1</a>\u001b[0m p\u001b[39m.\u001b[39;49mreto1(num2,num1)\n",
      "File \u001b[0;32m/mnt/c/Users/gerar/OneDrive - University of Gdansk (for Students)/new/primero.py:29\u001b[0m, in \u001b[0;36mreto1\u001b[0;34m(num1, num2)\u001b[0m\n\u001b[1;32m     <a href='file:///mnt/c/Users/gerar/OneDrive%20-%20University%20of%20Gdansk%20%28for%20Students%29/new/primero.py?line=26'>27</a>\u001b[0m nums\u001b[39m=\u001b[39m[\u001b[39mint\u001b[39m(x) \u001b[39mfor\u001b[39;00m x \u001b[39min\u001b[39;00m nums \u001b[39mif\u001b[39;00m num1\u001b[39m<\u001b[39m\u001b[39m=\u001b[39m \u001b[39mint\u001b[39m(x) \u001b[39m<\u001b[39m\u001b[39m=\u001b[39m num2]\n\u001b[1;32m     <a href='file:///mnt/c/Users/gerar/OneDrive%20-%20University%20of%20Gdansk%20%28for%20Students%29/new/primero.py?line=27'>28</a>\u001b[0m \u001b[39mif\u001b[39;00m num2\u001b[39m<\u001b[39mnum1:\n\u001b[0;32m---> <a href='file:///mnt/c/Users/gerar/OneDrive%20-%20University%20of%20Gdansk%20%28for%20Students%29/new/primero.py?line=28'>29</a>\u001b[0m     \u001b[39mraise\u001b[39;00m \u001b[39mNameError\u001b[39;00m(\u001b[39m'\u001b[39m\u001b[39mSe ingreso un numero no valido el primer numero debe ser menor al segundo\u001b[39m\u001b[39m'\u001b[39m)\n\u001b[1;32m     <a href='file:///mnt/c/Users/gerar/OneDrive%20-%20University%20of%20Gdansk%20%28for%20Students%29/new/primero.py?line=29'>30</a>\u001b[0m \u001b[39mreturn\u001b[39;00m \u001b[39msorted\u001b[39m(nums),\u001b[39mlen\u001b[39m(nums)\n",
      "\u001b[0;31mNameError\u001b[0m: Se ingreso un numero no valido el primer numero debe ser menor al segundo"
     ]
    }
   ],
   "source": [
    "p.reto1(num2,num1)"
   ]
  },
  {
   "cell_type": "code",
   "execution_count": 6,
   "id": "5574cf47",
   "metadata": {},
   "outputs": [
    {
     "name": "stdout",
     "output_type": "stream",
     "text": [
      "No es soluble se retorna None\n"
     ]
    }
   ],
   "source": [
    "state=[[1, 2, 3, 4], [5, 6, 7, 8], [9, 10, 11, 12], [13, 15,14, 0]]\n",
    "s.PuzzleFrame(state).solvePuzzle()"
   ]
  },
  {
   "cell_type": "code",
   "execution_count": 7,
   "id": "492b688c",
   "metadata": {},
   "outputs": [
    {
     "name": "stdout",
     "output_type": "stream",
     "text": [
      "----------------\n",
      "|1  |2  |3  |4  |\n",
      "----------------\n",
      "|5  |6  |7  |8  |\n",
      "----------------\n",
      "|9  |10 |0  |12 |\n",
      "----------------\n",
      "|13 |14 |11 |15 |\n",
      "----------------\n",
      "EL Proximo paso es :\n",
      "----------------\n",
      "|1  |2  |3  |4  |\n",
      "----------------\n",
      "|5  |6  |7  |8  |\n",
      "----------------\n",
      "|9  |10 |11 |12 |\n",
      "----------------\n",
      "|13 |14 |0  |15 |\n",
      "----------------\n",
      "EL Proximo paso es :\n",
      "----------------\n",
      "|1  |2  |3  |4  |\n",
      "----------------\n",
      "|5  |6  |7  |8  |\n",
      "----------------\n",
      "|9  |10 |11 |12 |\n",
      "----------------\n",
      "|13 |14 |15 |0  |\n",
      "----------------\n",
      "Voila! Se resolvio el puzzle\n"
     ]
    }
   ],
   "source": [
    "state=[[1, 2, 3, 4], [5, 6, 7, 8], [9, 10, 0, 12], [13, 14,11, 15]]\n",
    "s.PuzzleFrame(state).solvePuzzle()"
   ]
  },
  {
   "cell_type": "code",
   "execution_count": null,
   "id": "70d50d24",
   "metadata": {},
   "outputs": [],
   "source": []
  }
 ],
 "metadata": {
  "kernelspec": {
   "display_name": "Python 3 (ipykernel)",
   "language": "python",
   "name": "python3"
  },
  "language_info": {
   "codemirror_mode": {
    "name": "ipython",
    "version": 3
   },
   "file_extension": ".py",
   "mimetype": "text/x-python",
   "name": "python",
   "nbconvert_exporter": "python",
   "pygments_lexer": "ipython3",
   "version": "3.8.10"
  }
 },
 "nbformat": 4,
 "nbformat_minor": 5
}
