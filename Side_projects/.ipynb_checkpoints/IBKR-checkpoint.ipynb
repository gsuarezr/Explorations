{
 "cells": [
  {
   "cell_type": "markdown",
   "id": "7b613954-46b3-4f8b-8b6b-1c5ee68131f8",
   "metadata": {
    "tags": []
   },
   "source": [
    "# Token"
   ]
  },
  {
   "cell_type": "code",
   "execution_count": 7,
   "id": "eacb74a1-f992-45b4-bf72-67843127a068",
   "metadata": {},
   "outputs": [],
   "source": [
    "TOKEN='725614699519761332408883'\n",
    "QUERYID=\"766957\""
   ]
  },
  {
   "cell_type": "markdown",
   "id": "ca97d652-cbb8-40f7-a293-e35421308787",
   "metadata": {
    "tags": []
   },
   "source": [
    "# Process"
   ]
  },
  {
   "cell_type": "code",
   "execution_count": 105,
   "id": "47c0ceba-a060-4ccd-9732-69eb759b172d",
   "metadata": {},
   "outputs": [],
   "source": [
    "import requests\n",
    "import xml.etree.ElementTree as ET\n",
    "import time\n",
    "import pandas as pd"
   ]
  },
  {
   "cell_type": "code",
   "execution_count": 106,
   "id": "dbb14d4b-311c-406b-97fb-3252793a228f",
   "metadata": {},
   "outputs": [],
   "source": [
    "FLEX_URL = 'https://gdcdyn.interactivebrokers.com/Universal/servlet/'\n",
    "REQUEST_URL = FLEX_URL + 'FlexStatementService.SendRequest'\n",
    "STMT_URL = FLEX_URL + 'FlexStatementService.GetStatement'"
   ]
  },
  {
   "cell_type": "code",
   "execution_count": 440,
   "id": "0b3fa8c2",
   "metadata": {},
   "outputs": [],
   "source": [
    "class IBKR:\n",
    "    def __init__(self,TOKEN,QUERYID):\n",
    "        self.FLEX_URL = 'https://gdcdyn.interactivebrokers.com/Universal/servlet/'\n",
    "        self.REQUEST_URL = FLEX_URL + 'FlexStatementService.SendRequest'\n",
    "        self.STMT_URL = FLEX_URL + 'FlexStatementService.GetStatement'\n",
    "        self.TOKEN=TOKEN\n",
    "        self.QUERYID=QUERYID\n",
    "    def submit_request(self,url: str, token: str, query: str) -> requests.Response:\n",
    "        \"\"\"Post a query to the API access point, along with an authentication token.\n",
    "        Retry with a progressive timeout window.\n",
    "        \"\"\"\n",
    "        MAX_REQUESTS = 3\n",
    "        TIMEOUT_INCREMENT = 5\n",
    "        response = None\n",
    "        req_count = 1\n",
    "        while (not response):\n",
    "            try:\n",
    "                response = requests.get(\n",
    "                    url,\n",
    "                    params={\"v\": \"3\", \"t\": token, \"q\": query},\n",
    "                    headers={\"user-agent\": \"Java\"},\n",
    "                    timeout=req_count * TIMEOUT_INCREMENT,\n",
    "                )\n",
    "            except requests.exceptions.Timeout:\n",
    "                if req_count >= MAX_REQUESTS:\n",
    "                    raise\n",
    "                else:\n",
    "                    print(\"Request Timeout, re-sending...\")\n",
    "                    req_count += 1\n",
    "\n",
    "        return response\n",
    "    def get_data(self):\n",
    "        \"\"\"\n",
    "         Gets my trading data from IBKR, first it gets the reference code to request for the data later it does\n",
    "        \"\"\"\n",
    "        response=submit_request(url=self.REQUEST_URL,token=self.TOKEN,query=self.QUERYID)\n",
    "        elem=ET.fromstring(response.content)\n",
    "        data = {child.tag: child.text for child in elem}\n",
    "        reference=data['ReferenceCode']\n",
    "        repeat=True\n",
    "        while repeat:\n",
    "            response2=submit_request(url=self.STMT_URL,token=TOKEN,query=reference)\n",
    "            elem2=ET.fromstring(response2.content)\n",
    "            self.root = ET.XML(response2.content)\n",
    "            data2 = {child.tag: child.text for child in self.root}\n",
    "            try:\n",
    "                if data2['Status']=='Warn':\n",
    "                    time.sleep(30)\n",
    "            except KeyError:\n",
    "                repeat=False\n",
    "                self.parse_data()\n",
    "    def remove_empty_nested_dict(self,d):\n",
    "        \"\"\"\n",
    "        Recursively remove desired elements from a nested dictionary\n",
    "        \"\"\"\n",
    "        for k, v in list(d.items()):\n",
    "            if isinstance(v, dict):\n",
    "                remove_empty_nested_dict(v)\n",
    "                if not bool(v):\n",
    "                    del d[k]\n",
    "            elif v=='' or v=='0.0' or v=='0.0 ()':\n",
    "                del d[k]\n",
    "    def parse_data(self):\n",
    "        elements=[i for i in self.root.iter()]\n",
    "        #initial_dict={elements[i].tag:elements[i].attrib for i in range(len(elements))}\n",
    "        #self.remove_empty_nested_dict(initial_dict)\n",
    "        #self.data=initial_dict\n",
    "        #print(set(list(initial_dict.keys() )))\n",
    "        nonempty=[]\n",
    "        for i in elements:\n",
    "            if len(i.attrib)!=0:\n",
    "                nonempty.append(i)\n",
    "        self.data=nonempty\n",
    "    def get_bytag(self,tag):\n",
    "        elements=[]\n",
    "        for i in self.data:\n",
    "            if i.tag == tag:\n",
    "                elements.append(i.attrib)\n",
    "        frame=pd.DataFrame.from_dict(elements)\n",
    "        return frame \n",
    "    \n",
    "    def remove_rows_with_negative_values(self,df, column_name):\n",
    "        \"\"\"\n",
    "        Removes all rows with negative values on a given column from a Pandas DataFrame.\n",
    "        \"\"\"\n",
    "        df[column_name] = pd.to_numeric(df[column_name])\n",
    "        df.drop(df[df[column_name] < 0].index, inplace=True)\n",
    "    def remove_rows_with_value(self,df, column_name, value):\n",
    "        \"\"\"\n",
    "        Removes all rows with a certain value for a given column from a Pandas DataFrame.\n",
    "        \"\"\"\n",
    "        df.drop(df[df[column_name] == value].index, inplace=True)\n",
    "    def get_trades(self):\n",
    "        trades=self.get_bytag('Trade')\n",
    "        wanted_fields=['tradeDate','currency','fxRateToBase','symbol','description','ibCommission','tradePrice','quantity','fifoPnlRealized']\n",
    "        frame=pd.DataFrame.from_dict(trades)[wanted_fields]\n",
    "        self.remove_rows_with_value(frame,'symbol','USD.MXN')\n",
    "        self.remove_rows_with_value(frame,'symbol','EUR.USD')\n",
    "        self.trades= frame\n",
    "    def get_shares(self,string):\n",
    "        try:\n",
    "            s=string.split(' ').index('PER') - 1\n",
    "            return float(string.split(' ')[s])\n",
    "        except:\n",
    "            return 0\n",
    "    def get_dividends(self):\n",
    "        dividends=self.get_bytag('CashTransaction')\n",
    "        wanted_fields=['symbol','description','currency','fxRateToBase','amount','settleDate']\n",
    "        frame=pd.DataFrame.from_dict(dividends)[wanted_fields]\n",
    "        self.remove_rows_with_negative_values(frame,'amount')\n",
    "        frame.drop_duplicates(inplace=True)\n",
    "        frame['per_share']=frame['description'].apply(self.get_shares)\n",
    "        frame['shares']=(frame['amount']/frame['per_share']).replace(np.inf,0).round().astype(int)\n",
    "        self.dividends=frame\n",
    "    def get_assets(self):\n",
    "        assets=self.get_bytag('SymbolSummary')\n",
    "        frame=pd.DataFrame.from_dict(assets)\n",
    "        self.assets=frame"
   ]
  },
  {
   "cell_type": "code",
   "execution_count": 441,
   "id": "b60fd589",
   "metadata": {},
   "outputs": [],
   "source": [
    "ibrk=IBKR(TOKEN,QUERYID)"
   ]
  },
  {
   "cell_type": "code",
   "execution_count": 442,
   "id": "6d90d809",
   "metadata": {},
   "outputs": [],
   "source": [
    "ibrk.get_data()"
   ]
  },
  {
   "cell_type": "code",
   "execution_count": 443,
   "id": "c8695e22",
   "metadata": {},
   "outputs": [],
   "source": [
    "ibrk.get_trades()"
   ]
  },
  {
   "cell_type": "code",
   "execution_count": 444,
   "id": "04aeaaf4",
   "metadata": {},
   "outputs": [],
   "source": [
    "ibrk.get_dividends()"
   ]
  },
  {
   "cell_type": "code",
   "execution_count": 445,
   "id": "ec1d5847",
   "metadata": {},
   "outputs": [],
   "source": [
    "dividendsframe=ibrk.dividends"
   ]
  },
  {
   "cell_type": "code",
   "execution_count": 446,
   "id": "ca4ae671",
   "metadata": {},
   "outputs": [],
   "source": [
    "ibrk.get_assets()"
   ]
  },
  {
   "cell_type": "code",
   "execution_count": 450,
   "id": "15f5f325",
   "metadata": {},
   "outputs": [],
   "source": [
    "trades=ibrk.trades"
   ]
  },
  {
   "cell_type": "code",
   "execution_count": 480,
   "id": "24a4f89f",
   "metadata": {},
   "outputs": [],
   "source": [
    "def get_current_symbols(trades):\n",
    "    all_symbols=set(trades['symbol'])\n",
    "    all_symbols=[ i if 'USD' not in i else '' for i in all_symbols]\n",
    "    all_symbols=[x for x in all_symbols if x]\n",
    "    portfolio_names=[]\n",
    "    for i in all_symbols:\n",
    "        by_sym=trades[trades['symbol']==i]\n",
    "        if by_sym['quantity'].astype(float).sum()!=0:\n",
    "            portfolio_names.append((i,by_sym['quantity'].astype(float).sum()))\n",
    "    return portfolio_names"
   ]
  },
  {
   "cell_type": "code",
   "execution_count": 481,
   "id": "f42dd81c",
   "metadata": {},
   "outputs": [
    {
     "data": {
      "text/plain": [
       "[('O', 2.0),\n",
       " ('DANHOS13', 150.0),\n",
       " ('PFE', 1.0),\n",
       " ('FMTY14', 900.0),\n",
       " ('VZ', 3.0),\n",
       " ('SBUX', 1.0),\n",
       " ('FSHOP13', 200.0),\n",
       " ('SBRA', 7.0),\n",
       " ('STAG', 3.0),\n",
       " ('FIBRAMQ12', 150.0),\n",
       " ('KO', 2.0),\n",
       " ('LEG', 3.0),\n",
       " ('V', 0.5),\n",
       " ('IBM', 2.0)]"
      ]
     },
     "execution_count": 481,
     "metadata": {},
     "output_type": "execute_result"
    }
   ],
   "source": [
    "get_current_symbols(trades)"
   ]
  },
  {
   "cell_type": "markdown",
   "id": "06518722-f1bb-4e53-ae6d-b4519b56ab7e",
   "metadata": {},
   "source": [
    "# Obtain Portfolio and realized PNL"
   ]
  },
  {
   "cell_type": "code",
   "execution_count": 57,
   "id": "f2673df0-6cdc-4f91-a16c-a4fa1c5456b7",
   "metadata": {},
   "outputs": [],
   "source": [
    "all_symbols=set(tradesframe['symbol'])"
   ]
  },
  {
   "cell_type": "code",
   "execution_count": 58,
   "id": "a061d8da-d9c4-493e-86e6-946faddfd23f",
   "metadata": {},
   "outputs": [],
   "source": [
    "all_symbols=[ i if 'USD' not in i else '' for i in all_symbols]\n",
    "all_symbols=[x for x in all_symbols if x]"
   ]
  },
  {
   "cell_type": "code",
   "execution_count": 59,
   "id": "d9f4d52c-d829-4375-921d-aba7fc9cae6d",
   "metadata": {},
   "outputs": [],
   "source": [
    "portfolio_names=[]\n",
    "for i in all_symbols:\n",
    "    by_sym=tradesframe[tradesframe['symbol']==i]\n",
    "    if by_sym['quantity'].astype(float).sum()!=0:\n",
    "        portfolio_names.append(by_sym.symbol[0])\n"
   ]
  },
  {
   "cell_type": "code",
   "execution_count": 60,
   "id": "8c6edfc1-103b-4192-805b-ceda99273fc1",
   "metadata": {},
   "outputs": [],
   "source": [
    "realized=list(set(all_symbols)-set(portfolio_names))"
   ]
  },
  {
   "cell_type": "code",
   "execution_count": 61,
   "id": "3e18527b-adb6-4c39-a9fc-6777a217f5c1",
   "metadata": {},
   "outputs": [],
   "source": [
    "mini=tradesframe[tradesframe.symbol==str(realized[0])]"
   ]
  },
  {
   "cell_type": "code",
   "execution_count": 62,
   "id": "a9f2aa14-b572-46ca-9249-88651a75ac37",
   "metadata": {},
   "outputs": [
    {
     "data": {
      "text/html": [
       "<div>\n",
       "<style scoped>\n",
       "    .dataframe tbody tr th:only-of-type {\n",
       "        vertical-align: middle;\n",
       "    }\n",
       "\n",
       "    .dataframe tbody tr th {\n",
       "        vertical-align: top;\n",
       "    }\n",
       "\n",
       "    .dataframe thead th {\n",
       "        text-align: right;\n",
       "    }\n",
       "</style>\n",
       "<table border=\"1\" class=\"dataframe\">\n",
       "  <thead>\n",
       "    <tr style=\"text-align: right;\">\n",
       "      <th></th>\n",
       "      <th>symbol</th>\n",
       "      <th>fifoPnlRealized</th>\n",
       "      <th>quantity</th>\n",
       "      <th>tradePrice</th>\n",
       "    </tr>\n",
       "    <tr>\n",
       "      <th>tradeDate</th>\n",
       "      <th></th>\n",
       "      <th></th>\n",
       "      <th></th>\n",
       "      <th></th>\n",
       "    </tr>\n",
       "  </thead>\n",
       "  <tbody>\n",
       "    <tr>\n",
       "      <th>2023-03-06</th>\n",
       "      <td>AT1d</td>\n",
       "      <td>2.297938</td>\n",
       "      <td>-40</td>\n",
       "      <td>2.62</td>\n",
       "    </tr>\n",
       "    <tr>\n",
       "      <th>2023-03-24</th>\n",
       "      <td>AT1d</td>\n",
       "      <td>-39.818352</td>\n",
       "      <td>-40</td>\n",
       "      <td>1.451</td>\n",
       "    </tr>\n",
       "  </tbody>\n",
       "</table>\n",
       "</div>"
      ],
      "text/plain": [
       "           symbol fifoPnlRealized quantity tradePrice\n",
       "tradeDate                                            \n",
       "2023-03-06   AT1d        2.297938      -40       2.62\n",
       "2023-03-24   AT1d      -39.818352      -40      1.451"
      ]
     },
     "execution_count": 62,
     "metadata": {},
     "output_type": "execute_result"
    }
   ],
   "source": [
    "mini[mini.fifoPnlRealized.astype(float)!=0][['symbol','fifoPnlRealized','quantity','tradePrice']]"
   ]
  },
  {
   "cell_type": "markdown",
   "id": "1f0a7003-7046-4dab-b052-e8fc51b25c2c",
   "metadata": {
    "tags": []
   },
   "source": [
    "# Define a function for the avg cost"
   ]
  },
  {
   "cell_type": "code",
   "execution_count": 63,
   "id": "034273da-a4f5-4402-bcc4-1af6598cf4fb",
   "metadata": {},
   "outputs": [
    {
     "ename": "IndentationError",
     "evalue": "expected an indented block (4269626268.py, line 1)",
     "output_type": "error",
     "traceback": [
      "\u001b[0;36m  Cell \u001b[0;32mIn [63], line 1\u001b[0;36m\u001b[0m\n\u001b[0;31m    def function_avg_cost(portfolio,dividends):\u001b[0m\n\u001b[0m                                               ^\u001b[0m\n\u001b[0;31mIndentationError\u001b[0m\u001b[0;31m:\u001b[0m expected an indented block\n"
     ]
    }
   ],
   "source": [
    "def function_avg_cost(portfolio,dividends):"
   ]
  },
  {
   "cell_type": "code",
   "execution_count": null,
   "id": "0b8ca7e8-af62-4f5a-aef9-4992e38e1f68",
   "metadata": {},
   "outputs": [],
   "source": [
    "portfolio_names"
   ]
  },
  {
   "cell_type": "code",
   "execution_count": null,
   "id": "49300c80-83aa-4443-90e9-886503934e51",
   "metadata": {},
   "outputs": [],
   "source": [
    "boolean_series = tradesframe.symbol.isin(portfolio_names)\n",
    "series=tradesframe[boolean_series]"
   ]
  },
  {
   "cell_type": "code",
   "execution_count": null,
   "id": "ec37114b-3f2d-4eb0-82f7-eaf01d3ca728",
   "metadata": {},
   "outputs": [],
   "source": [
    "saying=series[series.symbol=='FMTY14']\n"
   ]
  },
  {
   "cell_type": "code",
   "execution_count": null,
   "id": "fd8dd4e2-ff99-4b4a-9e91-1c9e1601ce4e",
   "metadata": {},
   "outputs": [],
   "source": [
    "saying.loc[:,'Dollar_comision']=saying.loc[:,'fxRateToBase'].astype(float)*saying.loc[:,'ibCommission'].astype(float);"
   ]
  },
  {
   "cell_type": "code",
   "execution_count": null,
   "id": "bee48aa3-64ba-4df3-90e1-7675ac14d4c9",
   "metadata": {},
   "outputs": [],
   "source": [
    "saying"
   ]
  },
  {
   "cell_type": "code",
   "execution_count": null,
   "id": "418538bc-713b-48ad-a758-304f08314e9f",
   "metadata": {},
   "outputs": [],
   "source": [
    "avg_price_before=(saying['quantity'].astype(float)*saying['tradePrice'].astype(float) -saying.Dollar_comision.astype(float).sum()).sum()/900"
   ]
  },
  {
   "cell_type": "code",
   "execution_count": null,
   "id": "a9d07ad5-33a9-4d3e-b592-a4231d65a671",
   "metadata": {
    "tags": []
   },
   "outputs": [],
   "source": [
    "#avg_price_before=(saying.tradePrice.astype(float)-saying.Dollar_comision.astype(float).sum()/saying.quantity.astype(float).sum()).mean()"
   ]
  },
  {
   "cell_type": "code",
   "execution_count": null,
   "id": "5b588101-648b-4bff-9d13-ee381a65a847",
   "metadata": {},
   "outputs": [],
   "source": [
    "avg_price_before-div_pershare"
   ]
  },
  {
   "cell_type": "code",
   "execution_count": null,
   "id": "93633ecd-02e0-4bb7-9ef1-d46029d24539",
   "metadata": {},
   "outputs": [],
   "source": [
    "fmty=dividendsframe[dividendsframe.symbol=='FMTY14']"
   ]
  },
  {
   "cell_type": "code",
   "execution_count": null,
   "id": "11ef8fc2-bf3c-4413-a6cc-00eff37bd395",
   "metadata": {},
   "outputs": [],
   "source": [
    "from_div=fmty.netAmount.astype(float).sum()/saying.quantity.astype(float).sum()"
   ]
  },
  {
   "cell_type": "code",
   "execution_count": null,
   "id": "846b6cfe-f179-42d9-a2f2-e8423a9671e9",
   "metadata": {},
   "outputs": [],
   "source": [
    "fmty"
   ]
  },
  {
   "cell_type": "code",
   "execution_count": null,
   "id": "a648db45-7184-4696-953b-d61ac5b96c37",
   "metadata": {},
   "outputs": [],
   "source": [
    "avg_price=avg_price_before-from_div"
   ]
  },
  {
   "cell_type": "code",
   "execution_count": null,
   "id": "20a2daf4-8866-4898-b499-153283505b19",
   "metadata": {},
   "outputs": [],
   "source": [
    "avg_price"
   ]
  },
  {
   "cell_type": "code",
   "execution_count": null,
   "id": "cac5c3a4-4430-4818-95b9-bb2d7da0f364",
   "metadata": {},
   "outputs": [],
   "source": [
    "fmty.netAmount.astype(float).sum()/19"
   ]
  },
  {
   "cell_type": "code",
   "execution_count": null,
   "id": "c14ac151-9046-4038-9852-eb62e5d36698",
   "metadata": {},
   "outputs": [],
   "source": []
  },
  {
   "cell_type": "code",
   "execution_count": null,
   "id": "57b561a3-203c-4dd0-8c08-30bed6722db7",
   "metadata": {},
   "outputs": [],
   "source": []
  },
  {
   "cell_type": "code",
   "execution_count": null,
   "id": "d1b5eeec",
   "metadata": {},
   "outputs": [],
   "source": []
  },
  {
   "cell_type": "code",
   "execution_count": null,
   "id": "af210c84",
   "metadata": {},
   "outputs": [],
   "source": []
  },
  {
   "cell_type": "code",
   "execution_count": null,
   "id": "82104106",
   "metadata": {},
   "outputs": [],
   "source": []
  },
  {
   "cell_type": "code",
   "execution_count": null,
   "id": "7c1536e0",
   "metadata": {},
   "outputs": [],
   "source": []
  },
  {
   "cell_type": "code",
   "execution_count": null,
   "id": "19af5885",
   "metadata": {},
   "outputs": [],
   "source": []
  },
  {
   "cell_type": "code",
   "execution_count": null,
   "id": "0e11fd59",
   "metadata": {},
   "outputs": [],
   "source": []
  },
  {
   "cell_type": "code",
   "execution_count": null,
   "id": "bd2473fb",
   "metadata": {},
   "outputs": [],
   "source": []
  },
  {
   "cell_type": "code",
   "execution_count": null,
   "id": "065a1e95",
   "metadata": {},
   "outputs": [],
   "source": []
  },
  {
   "cell_type": "code",
   "execution_count": null,
   "id": "7ba48447",
   "metadata": {},
   "outputs": [],
   "source": []
  },
  {
   "cell_type": "code",
   "execution_count": null,
   "id": "0175db0c",
   "metadata": {},
   "outputs": [],
   "source": []
  },
  {
   "cell_type": "code",
   "execution_count": null,
   "id": "0cffbebd",
   "metadata": {},
   "outputs": [],
   "source": []
  },
  {
   "cell_type": "code",
   "execution_count": null,
   "id": "f544fc9f",
   "metadata": {},
   "outputs": [],
   "source": []
  },
  {
   "cell_type": "code",
   "execution_count": null,
   "id": "8dcef343",
   "metadata": {},
   "outputs": [],
   "source": []
  },
  {
   "cell_type": "code",
   "execution_count": null,
   "id": "067af110",
   "metadata": {},
   "outputs": [],
   "source": []
  },
  {
   "cell_type": "code",
   "execution_count": null,
   "id": "f2de2b9f",
   "metadata": {},
   "outputs": [],
   "source": []
  },
  {
   "cell_type": "code",
   "execution_count": null,
   "id": "d65be6ec",
   "metadata": {},
   "outputs": [],
   "source": []
  },
  {
   "cell_type": "code",
   "execution_count": null,
   "id": "05275059",
   "metadata": {},
   "outputs": [],
   "source": []
  },
  {
   "cell_type": "code",
   "execution_count": null,
   "id": "ecfea9c2",
   "metadata": {},
   "outputs": [],
   "source": []
  },
  {
   "cell_type": "code",
   "execution_count": null,
   "id": "f308bce8",
   "metadata": {},
   "outputs": [],
   "source": []
  }
 ],
 "metadata": {
  "kernelspec": {
   "display_name": "Python 3 (ipykernel)",
   "language": "python",
   "name": "python3"
  },
  "language_info": {
   "codemirror_mode": {
    "name": "ipython",
    "version": 3
   },
   "file_extension": ".py",
   "mimetype": "text/x-python",
   "name": "python",
   "nbconvert_exporter": "python",
   "pygments_lexer": "ipython3",
   "version": "3.9.7"
  }
 },
 "nbformat": 4,
 "nbformat_minor": 5
}
