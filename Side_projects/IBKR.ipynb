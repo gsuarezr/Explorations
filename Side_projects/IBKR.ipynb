{
 "cells": [
  {
   "cell_type": "code",
   "execution_count": 1,
   "id": "6135b33c-a733-422a-9fd0-2f8670fb1573",
   "metadata": {},
   "outputs": [],
   "source": [
    "from ibkr import TOKEN,QUERYID, IBKR"
   ]
  },
  {
   "cell_type": "code",
   "execution_count": 2,
   "id": "a8b367f8",
   "metadata": {},
   "outputs": [],
   "source": [
    "ibrk=IBKR(TOKEN,QUERYID)"
   ]
  },
  {
   "cell_type": "code",
   "execution_count": 3,
   "id": "743526f5",
   "metadata": {},
   "outputs": [],
   "source": [
    "ibrk.get_data()"
   ]
  },
  {
   "cell_type": "code",
   "execution_count": 4,
   "id": "f0762a9d",
   "metadata": {},
   "outputs": [],
   "source": [
    "ibrk.get_trades()"
   ]
  },
  {
   "cell_type": "code",
   "execution_count": 5,
   "id": "30956587",
   "metadata": {},
   "outputs": [],
   "source": [
    "ibrk.get_dividends()"
   ]
  },
  {
   "cell_type": "code",
   "execution_count": 6,
   "id": "f572e162",
   "metadata": {},
   "outputs": [],
   "source": [
    "portfolio=ibrk.get_current_porfolio()"
   ]
  }
 ],
 "metadata": {
  "kernelspec": {
   "display_name": "Python 3 (ipykernel)",
   "language": "python",
   "name": "python3"
  },
  "language_info": {
   "codemirror_mode": {
    "name": "ipython",
    "version": 3
   },
   "file_extension": ".py",
   "mimetype": "text/x-python",
   "name": "python",
   "nbconvert_exporter": "python",
   "pygments_lexer": "ipython3",
   "version": "3.11.3"
  }
 },
 "nbformat": 4,
 "nbformat_minor": 5
}
