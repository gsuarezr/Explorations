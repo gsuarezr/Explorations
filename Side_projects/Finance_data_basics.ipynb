{
 "cells": [
  {
   "cell_type": "code",
   "execution_count": 61,
   "id": "286cd290",
   "metadata": {},
   "outputs": [],
   "source": [
    "import pandas_datareader as pdr\n",
    "import pandas as pd\n",
    "import numpy as np"
   ]
  },
  {
   "cell_type": "code",
   "execution_count": 117,
   "id": "d196a74e",
   "metadata": {},
   "outputs": [],
   "source": [
    "dict1={'NVDA':2500,'SPY':5000,'IBM':1250,'AAPL':1250}\n",
    "keys=list(dict1.keys())\n",
    "total=sum(dict1.values())\n",
    "percentages=np.array(list(dict1.values()))/sum(dict1.values())\n",
    "data = pdr.get_data_yahoo(keys)"
   ]
  },
  {
   "cell_type": "code",
   "execution_count": 64,
   "id": "18a8bb22",
   "metadata": {},
   "outputs": [],
   "source": [
    "def get_mean(data,stock,attr):\n",
    "    return (data[attr][stock]).mean()"
   ]
  },
  {
   "cell_type": "code",
   "execution_count": 65,
   "id": "d45ff37b",
   "metadata": {},
   "outputs": [
    {
     "data": {
      "text/plain": [
       "83018864.36934075"
      ]
     },
     "execution_count": 65,
     "metadata": {},
     "output_type": "execute_result"
    }
   ],
   "source": [
    "get_mean(data,'SPY','Volume')"
   ]
  },
  {
   "cell_type": "code",
   "execution_count": 129,
   "id": "cab17917",
   "metadata": {},
   "outputs": [],
   "source": [
    "def normalize(data):\n",
    "    return data/data.iloc[0]"
   ]
  },
  {
   "cell_type": "code",
   "execution_count": 130,
   "id": "8dada5d5",
   "metadata": {},
   "outputs": [],
   "source": [
    "dada=normalize(data)"
   ]
  },
  {
   "cell_type": "code",
   "execution_count": 135,
   "id": "5a59f0bd",
   "metadata": {},
   "outputs": [],
   "source": [
    "def get_parameters(dict1):\n",
    "    keys=list(dict1.keys())\n",
    "    total=sum(dict1.values())\n",
    "    percentages=np.array(list(dict1.values()))/sum(dict1.values())\n",
    "    data = pdr.get_data_yahoo(keys)\n",
    "    data=data.drop('Volume',level=0,axis=1)\n",
    "    return percentages,total,keys,data\n",
    "    "
   ]
  },
  {
   "cell_type": "code",
   "execution_count": 136,
   "id": "a38d1fc5",
   "metadata": {},
   "outputs": [],
   "source": [
    "def compute_portfolio(data):\n",
    "    percentages,total,keys,data=get_parameters(data)\n",
    "    data=normalize(data)\n",
    "    portfolio=[data.xs(keys[j], level=1,axis=1)*percentages[j]*total for j in range(0,len(keys))]\n",
    "    return pd.concat(portfolio, keys=keys,axis=1)\n"
   ]
  },
  {
   "cell_type": "code",
   "execution_count": 137,
   "id": "bff47ebd",
   "metadata": {},
   "outputs": [],
   "source": [
    "data=compute_portfolio(dict1)"
   ]
  },
  {
   "cell_type": "code",
   "execution_count": 197,
   "id": "892ca479",
   "metadata": {},
   "outputs": [],
   "source": [
    "def get_daily(data):\n",
    "    data['Portfolio Value']=data.xs('Close', level=1, axis=1).sum(axis=1)\n",
    "    data['Daily Return Money']=data['Portfolio Value'].diff().fillna(0)\n",
    "    data['Daily Return %']=(data['Portfolio Value'].pct_change().fillna(0))*100\n",
    "    data['Cummulative Return Money']=data['Daily Return Money'].cumsum()\n",
    "    data['Cummulative Return %']=data['Cummulative Return Money']/(data['Portfolio Value'][0])*100\n",
    "    return data\n"
   ]
  },
  {
   "cell_type": "code",
   "execution_count": 201,
   "id": "3d475ad9",
   "metadata": {},
   "outputs": [],
   "source": [
    "port_val=get_daily(data)"
   ]
  },
  {
   "cell_type": "code",
   "execution_count": 205,
   "id": "96b2e0b6",
   "metadata": {},
   "outputs": [],
   "source": [
    "def get_statistics(data):\n",
    "    avg_daily= data['Daily Return Money'].mean()\n",
    "    avg_daily_p= data['Daily Return %'].mean()\n",
    "    std_daily_ret=data['Daily Return Money'].std()\n",
    "    std_daily_p=data['Daily Return %'].std()\n",
    "    sharpe_ratio=(avg_daily/std_daily_ret)*np.sqrt(252)\n",
    "    return  avg_daily,avg_daily_p, std_daily_ret,std_daily_p,sharpe_ratio"
   ]
  },
  {
   "cell_type": "code",
   "execution_count": 206,
   "id": "afb1919b",
   "metadata": {},
   "outputs": [
    {
     "data": {
      "text/plain": [
       "(31.821757882233918,\n",
       " 0.14550788919670657,\n",
       " 440.7735345007853,\n",
       " 1.8654952692078899,\n",
       " 1.1460641492369417)"
      ]
     },
     "execution_count": 206,
     "metadata": {},
     "output_type": "execute_result"
    }
   ],
   "source": [
    "get_statistics(port_val)"
   ]
  },
  {
   "cell_type": "code",
   "execution_count": null,
   "id": "3d3c74e8",
   "metadata": {},
   "outputs": [],
   "source": []
  },
  {
   "cell_type": "code",
   "execution_count": null,
   "id": "105f3a0c",
   "metadata": {},
   "outputs": [],
   "source": []
  },
  {
   "cell_type": "code",
   "execution_count": null,
   "id": "1378a1eb",
   "metadata": {},
   "outputs": [],
   "source": []
  }
 ],
 "metadata": {
  "kernelspec": {
   "display_name": "Python 3",
   "language": "python",
   "name": "python3"
  },
  "language_info": {
   "codemirror_mode": {
    "name": "ipython",
    "version": 3
   },
   "file_extension": ".py",
   "mimetype": "text/x-python",
   "name": "python",
   "nbconvert_exporter": "python",
   "pygments_lexer": "ipython3",
   "version": "3.8.8"
  }
 },
 "nbformat": 4,
 "nbformat_minor": 5
}
