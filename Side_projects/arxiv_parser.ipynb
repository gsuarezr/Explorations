{
 "cells": [
  {
   "cell_type": "code",
   "execution_count": 1,
   "id": "8e8f72e4",
   "metadata": {},
   "outputs": [
    {
     "name": "stdout",
     "output_type": "stream",
     "text": [
      "Collecting arxiv\n",
      "  Downloading arxiv-1.4.2-py3-none-any.whl (11 kB)\n",
      "Requirement already satisfied: feedparser in /home/gerarykari/anaconda3/lib/python3.9/site-packages (from arxiv) (6.0.8)\n",
      "Requirement already satisfied: sgmllib3k in /home/gerarykari/anaconda3/lib/python3.9/site-packages (from feedparser->arxiv) (1.0.0)\n",
      "Installing collected packages: arxiv\n",
      "Successfully installed arxiv-1.4.2\n"
     ]
    }
   ],
   "source": [
    "!pip install arxiv"
   ]
  },
  {
   "cell_type": "code",
   "execution_count": 7,
   "id": "2b3c47f9",
   "metadata": {},
   "outputs": [
    {
     "name": "stdout",
     "output_type": "stream",
     "text": [
      "Fast Bayesian analysis of individual binaries in pulsar timing array data\n",
      "Tight Bounds for Quantum State Certification with Incoherent Measurements\n",
      "Floquet-heating-induced non-equilibrium Bose condensation in an open optical lattice\n",
      "Loop representation and r-Fock measures for $SU(N)$ gauge theories\n",
      "A 5.7 THz GaN/AlGaN quantum cascade detector based on polar step quantum wells\n",
      "A Formally Certified End-to-End Implementation of Shor's Factorization Algorithm\n",
      "Improving the efficiency of learning-based error mitigation\n",
      "Symplectic Radon Transform and the Metaplectic Representation\n",
      "Vacuum stability and scalar masses in the superweak extension of the standard model\n",
      "Superoscillations Made Super Simple\n"
     ]
    }
   ],
   "source": [
    "search = arxiv.Search(\n",
    "  query = \"quantum\",\n",
    "  max_results = 10,\n",
    "  sort_by = arxiv.SortCriterion.SubmittedDate\n",
    ")\n",
    "\n",
    "for result in search.results():\n",
    "  print(result.title)"
   ]
  },
  {
   "cell_type": "code",
   "execution_count": 6,
   "id": "a598f808",
   "metadata": {},
   "outputs": [],
   "source": [
    "import arxiv"
   ]
  },
  {
   "cell_type": "code",
   "execution_count": null,
   "id": "440fba02",
   "metadata": {},
   "outputs": [],
   "source": []
  }
 ],
 "metadata": {
  "kernelspec": {
   "display_name": "Python 3 (ipykernel)",
   "language": "python",
   "name": "python3"
  },
  "language_info": {
   "codemirror_mode": {
    "name": "ipython",
    "version": 3
   },
   "file_extension": ".py",
   "mimetype": "text/x-python",
   "name": "python",
   "nbconvert_exporter": "python",
   "pygments_lexer": "ipython3",
   "version": "3.9.7"
  }
 },
 "nbformat": 4,
 "nbformat_minor": 5
}
