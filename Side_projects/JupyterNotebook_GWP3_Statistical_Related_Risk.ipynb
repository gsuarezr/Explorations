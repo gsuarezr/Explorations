{
 "cells": [
  {
   "cell_type": "markdown",
   "metadata": {
    "id": "KEfouYDCzToi"
   },
   "source": [
    "### **Section 1: Concepts explained in words** (Step 3)"
   ]
  },
  {
   "cell_type": "markdown",
   "metadata": {
    "id": "8JyXRX1p6xpW"
   },
   "source": [
    "**Definition**\n",
    "\n",
    "Keywords: Volatility, Covariance, Correlation\n",
    "\n",
    "**Volatility**\n",
    "\n",
    "A statistical measure of the dispersion of returns for a certain protection or market index is volatility. In general, the risk increases with port turbulence. The standard deviation or variance of the two returns from a certain protection or market index is a typical approach to describe volatility.\n",
    "\n",
    "While variance generally depicts the dispersion of returns around an asset's mean, volatility is a measure of that variance limited by a certain time period. Therefore, we have the option of reporting volatility on a daily, weekly, monthly, or annually basis. The annualized standard deviation can be thought of as a useful way to conceptualize volatility.\n",
    "\n",
    "Beta coefficients, option pricing models, and return standard deviations are a few tools used to gauge volatility.\n",
    "\n",
    "**Types of Volatility**\n",
    "\n",
    "**Implied Volatility**\n",
    "\n",
    " Implied volatility is the assessment of potential price changes for a certain security by the market. Investors may estimate future movements, supply, and demand using implied volatility, which is also widely used to price option contracts.\n",
    "\n",
    "**Historical Volatility**\n",
    "\n",
    "A statistical indicator of the returns' variability for a specific security or market index over a specific time period is called historical volatility. In most cases, this metric is calculated by calculating the average departure from the price of a financial instrument over the specified time frame. The most typical method of calculating historical volatility is by using standard deviation, though it is not the only one. Generally speaking, a security is riskier the higher its historical volatility value. Given that risk can go either way—bullish or bearish—that outcome is not necessarily bad.\n",
    " \n",
    "\n",
    "**Equations / Formulas**\n",
    "\n",
    "Volatility is defined as the standard deviation of a series of random variables, each of which represents the return of the fund over some matching series of periods, for any fund that changes arbitrarily over time.\n",
    "\n",
    "In finance, risk is interpreted as the standard deviation. The riskier an item or portfolio is, the higher its standard deviation should be. \n",
    "\n",
    "\n",
    "**daiy volatility**\n",
    "\n",
    "- annualized volatility\n",
    "\n",
    "$\\sigma_{\\mathrm{T}}=\\sigma_{\\text {annually }} \\sqrt{T}$\n",
    "\n",
    "where T expressed time horizon in years.\n",
    "\n",
    "- daiy volatility\n",
    "\n",
    "$\\sigma_{\\mathrm{P}}=\\sigma_{\\text {daily }} \\sqrt{P}$\n",
    "\n",
    "A common assumption is that P = 252 trading days in any given year.\n",
    "\n",
    "\n",
    "**correlation**\n",
    "\n",
    "statistical association between two random variables or bivariate data, whether causal or not, is referred to as correlation or dependency. Although \"correlation\" can mean any kind of link in the widest sense, in statistics it often refers to the strength of a pair of variables' linear relationships. \n",
    "\n",
    "In the financial and investing sectors, correlation is a computation that is used to determine how far two securities continue to move in relation to one another.\n",
    "\n",
    "While a negative correlation indicates that the securities are going in opposite directions, a positive correlation indicates that they are moving in the same direction. A number between -1 and 1, with 0 denoting no association, is used to express this.\n",
    "\n",
    "Because the risk reduction benefits of diversification depend on this statistic, investment managers, traders, and analysts place a high value on correlation calculations.\n",
    "\n",
    "Correlation may be calculated using a variety of techniques. the approach used most frequently The Pearson product-moment correlation analyzes a pair of variables' linear connection. Any dataset with a finite covariance matrix is suitable for using it.\n",
    "\n",
    "**Equations / Formulas**\n",
    "\n",
    "$r=\\frac{n \\times\\left(\\sum(X, Y)-\\left(\\sum(X) \\times \\sum(Y)\\right)\\right)}{\\sqrt{\\left(n \\times \\sum\\left(X^2\\right)-\\sum(X)^2\\right) \\times\\left(n \\times \\sum\\left(Y^2\\right)-\\sum(Y)^2\\right)}}$\n",
    "\n",
    "In regards to a diverse portfolio, correlation in investing is most significant. By purchasing non-correlated assets, investors can reduce their risk.\n",
    "\n",
    "Since correlation measures returns changes and returns often exhibit little autocorrelation, correlation is inherently a short-run metric that is prone to instability over time.\n",
    "\n",
    "**volatility impacts on correlation using bonds &, stocks**\n",
    "\n",
    "Correlations between investment portfolio returns often increase during times of increased market volatility when compared to correlations estimated during periods of normal volatility. An increasing occurrence of the rising return correlation during periods of high volatility is connected with changes in the basic linkages that govern returns.\n",
    "\n",
    "volatility affects correlations between asset returns even though the fundamental relationships between profits and losses remain constant; variations in implied volatility may be the only reason for differences in correlations observed over different time periods.\n",
    "\n",
    "\n",
    "\n"
   ]
  },
  {
   "cell_type": "markdown",
   "metadata": {
    "id": "zTdlh8bzzeZu"
   },
   "source": [
    "### **Section 2: Examples using real-world data** (Step 4 + 5)\n",
    "In this examples, we use two asset classes which are Stock and ETF Bond.\n",
    "We choose KO as a Stock and BND as an ETF.\n",
    "BND tracks the Bloomberg Barclays U.S. Aggregate Float Adjusted Index.\n",
    "\n"
   ]
  },
  {
   "cell_type": "code",
   "execution_count": null,
   "metadata": {
    "colab": {
     "base_uri": "https://localhost:8080/"
    },
    "id": "uE3EkhP-dD6A",
    "outputId": "4480e842-7b15-4ccb-c64d-247cf0dc2ba4"
   },
   "outputs": [
    {
     "name": "stdout",
     "output_type": "stream",
     "text": [
      "Looking in indexes: https://pypi.org/simple, https://us-python.pkg.dev/colab-wheels/public/simple/\n",
      "Requirement already satisfied: pandas_datareader in /usr/local/lib/python3.7/dist-packages (0.10.0)\n",
      "Requirement already satisfied: requests>=2.19.0 in /usr/local/lib/python3.7/dist-packages (from pandas_datareader) (2.23.0)\n",
      "Requirement already satisfied: lxml in /usr/local/lib/python3.7/dist-packages (from pandas_datareader) (4.9.1)\n",
      "Requirement already satisfied: pandas>=0.23 in /usr/local/lib/python3.7/dist-packages (from pandas_datareader) (1.3.5)\n",
      "Requirement already satisfied: python-dateutil>=2.7.3 in /usr/local/lib/python3.7/dist-packages (from pandas>=0.23->pandas_datareader) (2.8.2)\n",
      "Requirement already satisfied: pytz>=2017.3 in /usr/local/lib/python3.7/dist-packages (from pandas>=0.23->pandas_datareader) (2022.4)\n",
      "Requirement already satisfied: numpy>=1.17.3 in /usr/local/lib/python3.7/dist-packages (from pandas>=0.23->pandas_datareader) (1.21.6)\n",
      "Requirement already satisfied: six>=1.5 in /usr/local/lib/python3.7/dist-packages (from python-dateutil>=2.7.3->pandas>=0.23->pandas_datareader) (1.15.0)\n",
      "Requirement already satisfied: certifi>=2017.4.17 in /usr/local/lib/python3.7/dist-packages (from requests>=2.19.0->pandas_datareader) (2022.9.24)\n",
      "Requirement already satisfied: urllib3!=1.25.0,!=1.25.1,<1.26,>=1.21.1 in /usr/local/lib/python3.7/dist-packages (from requests>=2.19.0->pandas_datareader) (1.24.3)\n",
      "Requirement already satisfied: chardet<4,>=3.0.2 in /usr/local/lib/python3.7/dist-packages (from requests>=2.19.0->pandas_datareader) (3.0.4)\n",
      "Requirement already satisfied: idna<3,>=2.5 in /usr/local/lib/python3.7/dist-packages (from requests>=2.19.0->pandas_datareader) (2.10)\n"
     ]
    }
   ],
   "source": [
    "!pip install --upgrade pandas_datareader\n",
    "# !pip show pandas_datareader"
   ]
  },
  {
   "cell_type": "code",
   "execution_count": null,
   "metadata": {
    "id": "7jV7v03Zz47c"
   },
   "outputs": [],
   "source": [
    "import datetime\n",
    "import numpy as np\n",
    "import pandas as pd\n",
    "import pandas_datareader.data as web\n",
    "import seaborn as sns\n",
    "from matplotlib import pyplot as plt"
   ]
  },
  {
   "cell_type": "code",
   "execution_count": null,
   "metadata": {
    "colab": {
     "base_uri": "https://localhost:8080/",
     "height": 238
    },
    "id": "dNZA9n3pz4-b",
    "outputId": "2007e907-8704-44b2-8622-5b589b1e5c6e"
   },
   "outputs": [
    {
     "data": {
      "text/html": [
       "\n",
       "  <div id=\"df-99ce57da-6aaa-4eeb-895b-1345e1df89b1\">\n",
       "    <div class=\"colab-df-container\">\n",
       "      <div>\n",
       "<style scoped>\n",
       "    .dataframe tbody tr th:only-of-type {\n",
       "        vertical-align: middle;\n",
       "    }\n",
       "\n",
       "    .dataframe tbody tr th {\n",
       "        vertical-align: top;\n",
       "    }\n",
       "\n",
       "    .dataframe thead th {\n",
       "        text-align: right;\n",
       "    }\n",
       "</style>\n",
       "<table border=\"1\" class=\"dataframe\">\n",
       "  <thead>\n",
       "    <tr style=\"text-align: right;\">\n",
       "      <th>Symbols</th>\n",
       "      <th>STOCK</th>\n",
       "      <th>ETF</th>\n",
       "    </tr>\n",
       "    <tr>\n",
       "      <th>Date</th>\n",
       "      <th></th>\n",
       "      <th></th>\n",
       "    </tr>\n",
       "  </thead>\n",
       "  <tbody>\n",
       "    <tr>\n",
       "      <th>2012-06-25</th>\n",
       "      <td>27.113762</td>\n",
       "      <td>64.642281</td>\n",
       "    </tr>\n",
       "    <tr>\n",
       "      <th>2012-06-26</th>\n",
       "      <td>27.226175</td>\n",
       "      <td>64.573349</td>\n",
       "    </tr>\n",
       "    <tr>\n",
       "      <th>2012-06-27</th>\n",
       "      <td>27.683090</td>\n",
       "      <td>64.642281</td>\n",
       "    </tr>\n",
       "    <tr>\n",
       "      <th>2012-06-28</th>\n",
       "      <td>27.766497</td>\n",
       "      <td>64.711281</td>\n",
       "    </tr>\n",
       "    <tr>\n",
       "      <th>2012-06-29</th>\n",
       "      <td>28.353960</td>\n",
       "      <td>64.665306</td>\n",
       "    </tr>\n",
       "  </tbody>\n",
       "</table>\n",
       "</div>\n",
       "      <button class=\"colab-df-convert\" onclick=\"convertToInteractive('df-99ce57da-6aaa-4eeb-895b-1345e1df89b1')\"\n",
       "              title=\"Convert this dataframe to an interactive table.\"\n",
       "              style=\"display:none;\">\n",
       "        \n",
       "  <svg xmlns=\"http://www.w3.org/2000/svg\" height=\"24px\"viewBox=\"0 0 24 24\"\n",
       "       width=\"24px\">\n",
       "    <path d=\"M0 0h24v24H0V0z\" fill=\"none\"/>\n",
       "    <path d=\"M18.56 5.44l.94 2.06.94-2.06 2.06-.94-2.06-.94-.94-2.06-.94 2.06-2.06.94zm-11 1L8.5 8.5l.94-2.06 2.06-.94-2.06-.94L8.5 2.5l-.94 2.06-2.06.94zm10 10l.94 2.06.94-2.06 2.06-.94-2.06-.94-.94-2.06-.94 2.06-2.06.94z\"/><path d=\"M17.41 7.96l-1.37-1.37c-.4-.4-.92-.59-1.43-.59-.52 0-1.04.2-1.43.59L10.3 9.45l-7.72 7.72c-.78.78-.78 2.05 0 2.83L4 21.41c.39.39.9.59 1.41.59.51 0 1.02-.2 1.41-.59l7.78-7.78 2.81-2.81c.8-.78.8-2.07 0-2.86zM5.41 20L4 18.59l7.72-7.72 1.47 1.35L5.41 20z\"/>\n",
       "  </svg>\n",
       "      </button>\n",
       "      \n",
       "  <style>\n",
       "    .colab-df-container {\n",
       "      display:flex;\n",
       "      flex-wrap:wrap;\n",
       "      gap: 12px;\n",
       "    }\n",
       "\n",
       "    .colab-df-convert {\n",
       "      background-color: #E8F0FE;\n",
       "      border: none;\n",
       "      border-radius: 50%;\n",
       "      cursor: pointer;\n",
       "      display: none;\n",
       "      fill: #1967D2;\n",
       "      height: 32px;\n",
       "      padding: 0 0 0 0;\n",
       "      width: 32px;\n",
       "    }\n",
       "\n",
       "    .colab-df-convert:hover {\n",
       "      background-color: #E2EBFA;\n",
       "      box-shadow: 0px 1px 2px rgba(60, 64, 67, 0.3), 0px 1px 3px 1px rgba(60, 64, 67, 0.15);\n",
       "      fill: #174EA6;\n",
       "    }\n",
       "\n",
       "    [theme=dark] .colab-df-convert {\n",
       "      background-color: #3B4455;\n",
       "      fill: #D2E3FC;\n",
       "    }\n",
       "\n",
       "    [theme=dark] .colab-df-convert:hover {\n",
       "      background-color: #434B5C;\n",
       "      box-shadow: 0px 1px 3px 1px rgba(0, 0, 0, 0.15);\n",
       "      filter: drop-shadow(0px 1px 2px rgba(0, 0, 0, 0.3));\n",
       "      fill: #FFFFFF;\n",
       "    }\n",
       "  </style>\n",
       "\n",
       "      <script>\n",
       "        const buttonEl =\n",
       "          document.querySelector('#df-99ce57da-6aaa-4eeb-895b-1345e1df89b1 button.colab-df-convert');\n",
       "        buttonEl.style.display =\n",
       "          google.colab.kernel.accessAllowed ? 'block' : 'none';\n",
       "\n",
       "        async function convertToInteractive(key) {\n",
       "          const element = document.querySelector('#df-99ce57da-6aaa-4eeb-895b-1345e1df89b1');\n",
       "          const dataTable =\n",
       "            await google.colab.kernel.invokeFunction('convertToInteractive',\n",
       "                                                     [key], {});\n",
       "          if (!dataTable) return;\n",
       "\n",
       "          const docLinkHtml = 'Like what you see? Visit the ' +\n",
       "            '<a target=\"_blank\" href=https://colab.research.google.com/notebooks/data_table.ipynb>data table notebook</a>'\n",
       "            + ' to learn more about interactive tables.';\n",
       "          element.innerHTML = '';\n",
       "          dataTable['output_type'] = 'display_data';\n",
       "          await google.colab.output.renderOutput(dataTable, element);\n",
       "          const docLink = document.createElement('div');\n",
       "          docLink.innerHTML = docLinkHtml;\n",
       "          element.appendChild(docLink);\n",
       "        }\n",
       "      </script>\n",
       "    </div>\n",
       "  </div>\n",
       "  "
      ],
      "text/plain": [
       "Symbols         STOCK        ETF\n",
       "Date                            \n",
       "2012-06-25  27.113762  64.642281\n",
       "2012-06-26  27.226175  64.573349\n",
       "2012-06-27  27.683090  64.642281\n",
       "2012-06-28  27.766497  64.711281\n",
       "2012-06-29  28.353960  64.665306"
      ]
     },
     "execution_count": 67,
     "metadata": {},
     "output_type": "execute_result"
    }
   ],
   "source": [
    "# daily price data in 6 months from 01/01/2012 - 30/06/2012\n",
    "asset_class = ['STOCK', 'ETF']\n",
    "stock = 'KO'\n",
    "etf = 'BND'\n",
    "tickers = {stock : 'STOCK', etf : 'ETF'}\n",
    "\n",
    "start = datetime.date(2012, 1, 1)\n",
    "end = datetime.date(2012, 6, 30)\n",
    "prices = web.DataReader([stock, etf], \"yahoo\", start, end)[\"Adj Close\"]\n",
    "prices = prices.rename(columns=tickers)\n",
    "prices.tail()"
   ]
  },
  {
   "cell_type": "code",
   "execution_count": null,
   "metadata": {
    "colab": {
     "base_uri": "https://localhost:8080/",
     "height": 238
    },
    "id": "aPWPckxgz5BK",
    "outputId": "ec0ce4ea-278a-4f03-cee7-3af7e3b56127"
   },
   "outputs": [
    {
     "data": {
      "text/html": [
       "\n",
       "  <div id=\"df-fadc5a6b-9f07-4811-affc-7c85f6c8e694\">\n",
       "    <div class=\"colab-df-container\">\n",
       "      <div>\n",
       "<style scoped>\n",
       "    .dataframe tbody tr th:only-of-type {\n",
       "        vertical-align: middle;\n",
       "    }\n",
       "\n",
       "    .dataframe tbody tr th {\n",
       "        vertical-align: top;\n",
       "    }\n",
       "\n",
       "    .dataframe thead th {\n",
       "        text-align: right;\n",
       "    }\n",
       "</style>\n",
       "<table border=\"1\" class=\"dataframe\">\n",
       "  <thead>\n",
       "    <tr style=\"text-align: right;\">\n",
       "      <th>Symbols</th>\n",
       "      <th>STOCK</th>\n",
       "      <th>ETF</th>\n",
       "    </tr>\n",
       "    <tr>\n",
       "      <th>Date</th>\n",
       "      <th></th>\n",
       "      <th></th>\n",
       "    </tr>\n",
       "  </thead>\n",
       "  <tbody>\n",
       "    <tr>\n",
       "      <th>2012-06-25</th>\n",
       "      <td>-0.002271</td>\n",
       "      <td>0.002611</td>\n",
       "    </tr>\n",
       "    <tr>\n",
       "      <th>2012-06-26</th>\n",
       "      <td>0.004137</td>\n",
       "      <td>-0.001067</td>\n",
       "    </tr>\n",
       "    <tr>\n",
       "      <th>2012-06-27</th>\n",
       "      <td>0.016643</td>\n",
       "      <td>0.001067</td>\n",
       "    </tr>\n",
       "    <tr>\n",
       "      <th>2012-06-28</th>\n",
       "      <td>0.003008</td>\n",
       "      <td>0.001067</td>\n",
       "    </tr>\n",
       "    <tr>\n",
       "      <th>2012-06-29</th>\n",
       "      <td>0.020937</td>\n",
       "      <td>-0.000711</td>\n",
       "    </tr>\n",
       "  </tbody>\n",
       "</table>\n",
       "</div>\n",
       "      <button class=\"colab-df-convert\" onclick=\"convertToInteractive('df-fadc5a6b-9f07-4811-affc-7c85f6c8e694')\"\n",
       "              title=\"Convert this dataframe to an interactive table.\"\n",
       "              style=\"display:none;\">\n",
       "        \n",
       "  <svg xmlns=\"http://www.w3.org/2000/svg\" height=\"24px\"viewBox=\"0 0 24 24\"\n",
       "       width=\"24px\">\n",
       "    <path d=\"M0 0h24v24H0V0z\" fill=\"none\"/>\n",
       "    <path d=\"M18.56 5.44l.94 2.06.94-2.06 2.06-.94-2.06-.94-.94-2.06-.94 2.06-2.06.94zm-11 1L8.5 8.5l.94-2.06 2.06-.94-2.06-.94L8.5 2.5l-.94 2.06-2.06.94zm10 10l.94 2.06.94-2.06 2.06-.94-2.06-.94-.94-2.06-.94 2.06-2.06.94z\"/><path d=\"M17.41 7.96l-1.37-1.37c-.4-.4-.92-.59-1.43-.59-.52 0-1.04.2-1.43.59L10.3 9.45l-7.72 7.72c-.78.78-.78 2.05 0 2.83L4 21.41c.39.39.9.59 1.41.59.51 0 1.02-.2 1.41-.59l7.78-7.78 2.81-2.81c.8-.78.8-2.07 0-2.86zM5.41 20L4 18.59l7.72-7.72 1.47 1.35L5.41 20z\"/>\n",
       "  </svg>\n",
       "      </button>\n",
       "      \n",
       "  <style>\n",
       "    .colab-df-container {\n",
       "      display:flex;\n",
       "      flex-wrap:wrap;\n",
       "      gap: 12px;\n",
       "    }\n",
       "\n",
       "    .colab-df-convert {\n",
       "      background-color: #E8F0FE;\n",
       "      border: none;\n",
       "      border-radius: 50%;\n",
       "      cursor: pointer;\n",
       "      display: none;\n",
       "      fill: #1967D2;\n",
       "      height: 32px;\n",
       "      padding: 0 0 0 0;\n",
       "      width: 32px;\n",
       "    }\n",
       "\n",
       "    .colab-df-convert:hover {\n",
       "      background-color: #E2EBFA;\n",
       "      box-shadow: 0px 1px 2px rgba(60, 64, 67, 0.3), 0px 1px 3px 1px rgba(60, 64, 67, 0.15);\n",
       "      fill: #174EA6;\n",
       "    }\n",
       "\n",
       "    [theme=dark] .colab-df-convert {\n",
       "      background-color: #3B4455;\n",
       "      fill: #D2E3FC;\n",
       "    }\n",
       "\n",
       "    [theme=dark] .colab-df-convert:hover {\n",
       "      background-color: #434B5C;\n",
       "      box-shadow: 0px 1px 3px 1px rgba(0, 0, 0, 0.15);\n",
       "      filter: drop-shadow(0px 1px 2px rgba(0, 0, 0, 0.3));\n",
       "      fill: #FFFFFF;\n",
       "    }\n",
       "  </style>\n",
       "\n",
       "      <script>\n",
       "        const buttonEl =\n",
       "          document.querySelector('#df-fadc5a6b-9f07-4811-affc-7c85f6c8e694 button.colab-df-convert');\n",
       "        buttonEl.style.display =\n",
       "          google.colab.kernel.accessAllowed ? 'block' : 'none';\n",
       "\n",
       "        async function convertToInteractive(key) {\n",
       "          const element = document.querySelector('#df-fadc5a6b-9f07-4811-affc-7c85f6c8e694');\n",
       "          const dataTable =\n",
       "            await google.colab.kernel.invokeFunction('convertToInteractive',\n",
       "                                                     [key], {});\n",
       "          if (!dataTable) return;\n",
       "\n",
       "          const docLinkHtml = 'Like what you see? Visit the ' +\n",
       "            '<a target=\"_blank\" href=https://colab.research.google.com/notebooks/data_table.ipynb>data table notebook</a>'\n",
       "            + ' to learn more about interactive tables.';\n",
       "          element.innerHTML = '';\n",
       "          dataTable['output_type'] = 'display_data';\n",
       "          await google.colab.output.renderOutput(dataTable, element);\n",
       "          const docLink = document.createElement('div');\n",
       "          docLink.innerHTML = docLinkHtml;\n",
       "          element.appendChild(docLink);\n",
       "        }\n",
       "      </script>\n",
       "    </div>\n",
       "  </div>\n",
       "  "
      ],
      "text/plain": [
       "Symbols        STOCK       ETF\n",
       "Date                          \n",
       "2012-06-25 -0.002271  0.002611\n",
       "2012-06-26  0.004137 -0.001067\n",
       "2012-06-27  0.016643  0.001067\n",
       "2012-06-28  0.003008  0.001067\n",
       "2012-06-29  0.020937 -0.000711"
      ]
     },
     "execution_count": 68,
     "metadata": {},
     "output_type": "execute_result"
    }
   ],
   "source": [
    "# daily log returns\n",
    "returns = np.log(prices) - np.log(prices.shift(1))\n",
    "returns = returns.iloc[1:, 0:]\n",
    "returns.tail()"
   ]
  },
  {
   "cell_type": "code",
   "execution_count": null,
   "metadata": {
    "colab": {
     "base_uri": "https://localhost:8080/"
    },
    "id": "Os9njFLTcdOp",
    "outputId": "094741b5-436b-4646-9bf8-9b1ad56385cf"
   },
   "outputs": [
    {
     "data": {
      "text/plain": [
       "Symbols\n",
       "STOCK    43.496951\n",
       "ETF       7.847402\n",
       "dtype: float64"
      ]
     },
     "execution_count": 69,
     "metadata": {},
     "output_type": "execute_result"
    }
   ],
   "source": [
    "# annual returns\n",
    "((returns[asset_class].mean() + 1).pow(365) - 1) * 100"
   ]
  },
  {
   "cell_type": "markdown",
   "metadata": {
    "id": "IYkySuUYipgs"
   },
   "source": [
    "Over the first 6 months of 2012, while both assets have positive annual return, Stock (NFLX) got a much higher return than ETF (BND). This is to be expected because a bond is considered safer assets than a stock, therefore its return should be lower than the stock's return."
   ]
  },
  {
   "cell_type": "markdown",
   "metadata": {
    "id": "A6Qb7lkbSu-D"
   },
   "source": [
    "#### **Comparing two assets**"
   ]
  },
  {
   "cell_type": "markdown",
   "metadata": {
    "id": "jHE-JfOLh3_2"
   },
   "source": [
    "**Volatility: daily return's standard deviation**"
   ]
  },
  {
   "cell_type": "code",
   "execution_count": null,
   "metadata": {
    "colab": {
     "base_uri": "https://localhost:8080/"
    },
    "id": "EYV4rIfyS0WA",
    "outputId": "2b4f7768-9a17-4c3c-afa4-6529376cc083"
   },
   "outputs": [
    {
     "data": {
      "text/plain": [
       "Symbols\n",
       "STOCK    0.007582\n",
       "ETF      0.001637\n",
       "dtype: float64"
      ]
     },
     "execution_count": 73,
     "metadata": {},
     "output_type": "execute_result"
    }
   ],
   "source": [
    "returns.std()"
   ]
  },
  {
   "cell_type": "markdown",
   "metadata": {
    "id": "SPg-hzdBkYAI"
   },
   "source": [
    "**Volatility: daily price's moving average volatility**"
   ]
  },
  {
   "cell_type": "code",
   "execution_count": null,
   "metadata": {
    "colab": {
     "base_uri": "https://localhost:8080/"
    },
    "id": "sbTVW_fAkgbJ",
    "outputId": "6dcc5f91-aff0-4a11-8c06-75abfd34f757"
   },
   "outputs": [
    {
     "data": {
      "text/plain": [
       "Symbols\n",
       "STOCK    0.033419\n",
       "ETF      0.006594\n",
       "dtype: float64"
      ]
     },
     "execution_count": 74,
     "metadata": {},
     "output_type": "execute_result"
    }
   ],
   "source": [
    "((abs(prices - prices.rolling(50).mean())) / prices).mean()"
   ]
  },
  {
   "cell_type": "markdown",
   "metadata": {
    "id": "_QmGc2p4lbqh"
   },
   "source": [
    "**Volatility: daily return percentage**"
   ]
  },
  {
   "cell_type": "code",
   "execution_count": null,
   "metadata": {
    "colab": {
     "base_uri": "https://localhost:8080/"
    },
    "id": "Fqb0BJw_lViC",
    "outputId": "81d14d62-5fe6-4e75-ea3e-24ba0f92350f"
   },
   "outputs": [
    {
     "data": {
      "text/plain": [
       "Symbols\n",
       "STOCK    0.098992\n",
       "ETF      0.020700\n",
       "dtype: float64"
      ]
     },
     "execution_count": 75,
     "metadata": {},
     "output_type": "execute_result"
    }
   ],
   "source": [
    "100 * returns.mean()"
   ]
  },
  {
   "cell_type": "markdown",
   "metadata": {
    "id": "PZfbrgqriSFN"
   },
   "source": [
    "Both three volatility metrics show that the Stock (NFLX) has been more volatile over the six-month period than the ETF (BND). \n",
    "\n",
    "In fact, a higher risk means a higher potential for rewards. A lower standard deviation is not necessarily preferable when considering investments. It all depends on the investor’s risk preferences. \n",
    "\n",
    "Therefore, these volatility figures make sense compared to the annual return calculated above."
   ]
  },
  {
   "cell_type": "markdown",
   "metadata": {
    "id": "IaNV5o3auBvo"
   },
   "source": [
    "**Time series plot**"
   ]
  },
  {
   "cell_type": "code",
   "execution_count": null,
   "metadata": {
    "colab": {
     "base_uri": "https://localhost:8080/",
     "height": 488
    },
    "id": "OqxzVwkzuIgJ",
    "outputId": "be6c76bb-9d63-490c-e7fc-94fa95e45d14"
   },
   "outputs": [
    {
     "data": {
      "text/plain": [
       "(-0.02, 0.02)"
      ]
     },
     "execution_count": 77,
     "metadata": {},
     "output_type": "execute_result"
    },
    {
     "data": {
      "image/png": "[encoded data removed]",
      "text/plain": [
       "<Figure size 1080x216 with 1 Axes>"
      ]
     },
     "metadata": {
      "needs_background": "light"
     },
     "output_type": "display_data"
    },
    {
     "data": {
      "image/png": "[encoded data removed]",
      "text/plain": [
       "<Figure size 1080x216 with 1 Axes>"
      ]
     },
     "metadata": {
      "needs_background": "light"
     },
     "output_type": "display_data"
    }
   ],
   "source": [
    "ax1 = returns.plot(figsize=(15, 3), y=\"STOCK\", title=\"Figure 1: Stock (NFLX) Daily Returns\")\n",
    "ax2 = returns.plot(figsize=(15, 3), y=\"ETF\", title=\"Figure 2: ETF (BND) Daily Returns\")\n",
    "ax1.set_ylim(-0.02, 0.02)\n",
    "ax2.set_ylim(-0.02, 0.02)"
   ]
  },
  {
   "cell_type": "markdown",
   "metadata": {
    "id": "M4TTW9UauPSd"
   },
   "source": [
    "**Histogram of daily return distribution**"
   ]
  },
  {
   "cell_type": "code",
   "execution_count": null,
   "metadata": {
    "colab": {
     "base_uri": "https://localhost:8080/",
     "height": 227
    },
    "id": "9O0s0ZP0uHqP",
    "outputId": "efe97dbe-c208-4aef-e415-ed335a48afac"
   },
   "outputs": [
    {
     "data": {
      "image/png": "[encoded data removed]",
      "text/plain": [
       "<Figure size 720x216 with 2 Axes>"
      ]
     },
     "metadata": {
      "needs_background": "light"
     },
     "output_type": "display_data"
    }
   ],
   "source": [
    "num_rows, num_cols = 1, 2\n",
    "fig, axes = plt.subplots(num_rows, num_cols, figsize=(10, 3))\n",
    "\n",
    "axes[0].hist(returns['STOCK'], bins = 20 )\n",
    "axes[0].set(title=\"Figure 3: Stock (NFLX) Return Historgram\")\n",
    "axes[0].set_xlim(-0.02, 0.02)\n",
    "axes[0].set_ylim(0 , 20)\n",
    "\n",
    "axes[1].hist(returns['ETF'], bins = 20)\n",
    "axes[1].set(title=\"Figure 4: ETF (BND) Return Historgram\")\n",
    "axes[1].set_xlim(-0.02, 0.02)\n",
    "axes[1].set_ylim(0 , 20)\n",
    "\n",
    "plt.show()"
   ]
  },
  {
   "cell_type": "markdown",
   "metadata": {
    "id": "KJ_Vx28WS5RC"
   },
   "source": [
    "#### **The joint performance of the two assets**"
   ]
  },
  {
   "cell_type": "markdown",
   "metadata": {
    "id": "C9Zl5UYGrYH4"
   },
   "source": [
    "**Covariance**"
   ]
  },
  {
   "cell_type": "code",
   "execution_count": null,
   "metadata": {
    "colab": {
     "base_uri": "https://localhost:8080/",
     "height": 143
    },
    "id": "xr1ej0G9z5Dy",
    "outputId": "ce09ffa5-5344-4f42-dab8-f909d1fe6fc7"
   },
   "outputs": [
    {
     "data": {
      "text/html": [
       "\n",
       "  <div id=\"df-dc438917-7b9f-453d-b4f8-111dade65f1a\">\n",
       "    <div class=\"colab-df-container\">\n",
       "      <div>\n",
       "<style scoped>\n",
       "    .dataframe tbody tr th:only-of-type {\n",
       "        vertical-align: middle;\n",
       "    }\n",
       "\n",
       "    .dataframe tbody tr th {\n",
       "        vertical-align: top;\n",
       "    }\n",
       "\n",
       "    .dataframe thead th {\n",
       "        text-align: right;\n",
       "    }\n",
       "</style>\n",
       "<table border=\"1\" class=\"dataframe\">\n",
       "  <thead>\n",
       "    <tr style=\"text-align: right;\">\n",
       "      <th>Symbols</th>\n",
       "      <th>STOCK</th>\n",
       "      <th>ETF</th>\n",
       "    </tr>\n",
       "    <tr>\n",
       "      <th>Symbols</th>\n",
       "      <th></th>\n",
       "      <th></th>\n",
       "    </tr>\n",
       "  </thead>\n",
       "  <tbody>\n",
       "    <tr>\n",
       "      <th>STOCK</th>\n",
       "      <td>0.000057</td>\n",
       "      <td>-0.000003</td>\n",
       "    </tr>\n",
       "    <tr>\n",
       "      <th>ETF</th>\n",
       "      <td>-0.000003</td>\n",
       "      <td>0.000003</td>\n",
       "    </tr>\n",
       "  </tbody>\n",
       "</table>\n",
       "</div>\n",
       "      <button class=\"colab-df-convert\" onclick=\"convertToInteractive('df-dc438917-7b9f-453d-b4f8-111dade65f1a')\"\n",
       "              title=\"Convert this dataframe to an interactive table.\"\n",
       "              style=\"display:none;\">\n",
       "        \n",
       "  <svg xmlns=\"http://www.w3.org/2000/svg\" height=\"24px\"viewBox=\"0 0 24 24\"\n",
       "       width=\"24px\">\n",
       "    <path d=\"M0 0h24v24H0V0z\" fill=\"none\"/>\n",
       "    <path d=\"M18.56 5.44l.94 2.06.94-2.06 2.06-.94-2.06-.94-.94-2.06-.94 2.06-2.06.94zm-11 1L8.5 8.5l.94-2.06 2.06-.94-2.06-.94L8.5 2.5l-.94 2.06-2.06.94zm10 10l.94 2.06.94-2.06 2.06-.94-2.06-.94-.94-2.06-.94 2.06-2.06.94z\"/><path d=\"M17.41 7.96l-1.37-1.37c-.4-.4-.92-.59-1.43-.59-.52 0-1.04.2-1.43.59L10.3 9.45l-7.72 7.72c-.78.78-.78 2.05 0 2.83L4 21.41c.39.39.9.59 1.41.59.51 0 1.02-.2 1.41-.59l7.78-7.78 2.81-2.81c.8-.78.8-2.07 0-2.86zM5.41 20L4 18.59l7.72-7.72 1.47 1.35L5.41 20z\"/>\n",
       "  </svg>\n",
       "      </button>\n",
       "      \n",
       "  <style>\n",
       "    .colab-df-container {\n",
       "      display:flex;\n",
       "      flex-wrap:wrap;\n",
       "      gap: 12px;\n",
       "    }\n",
       "\n",
       "    .colab-df-convert {\n",
       "      background-color: #E8F0FE;\n",
       "      border: none;\n",
       "      border-radius: 50%;\n",
       "      cursor: pointer;\n",
       "      display: none;\n",
       "      fill: #1967D2;\n",
       "      height: 32px;\n",
       "      padding: 0 0 0 0;\n",
       "      width: 32px;\n",
       "    }\n",
       "\n",
       "    .colab-df-convert:hover {\n",
       "      background-color: #E2EBFA;\n",
       "      box-shadow: 0px 1px 2px rgba(60, 64, 67, 0.3), 0px 1px 3px 1px rgba(60, 64, 67, 0.15);\n",
       "      fill: #174EA6;\n",
       "    }\n",
       "\n",
       "    [theme=dark] .colab-df-convert {\n",
       "      background-color: #3B4455;\n",
       "      fill: #D2E3FC;\n",
       "    }\n",
       "\n",
       "    [theme=dark] .colab-df-convert:hover {\n",
       "      background-color: #434B5C;\n",
       "      box-shadow: 0px 1px 3px 1px rgba(0, 0, 0, 0.15);\n",
       "      filter: drop-shadow(0px 1px 2px rgba(0, 0, 0, 0.3));\n",
       "      fill: #FFFFFF;\n",
       "    }\n",
       "  </style>\n",
       "\n",
       "      <script>\n",
       "        const buttonEl =\n",
       "          document.querySelector('#df-dc438917-7b9f-453d-b4f8-111dade65f1a button.colab-df-convert');\n",
       "        buttonEl.style.display =\n",
       "          google.colab.kernel.accessAllowed ? 'block' : 'none';\n",
       "\n",
       "        async function convertToInteractive(key) {\n",
       "          const element = document.querySelector('#df-dc438917-7b9f-453d-b4f8-111dade65f1a');\n",
       "          const dataTable =\n",
       "            await google.colab.kernel.invokeFunction('convertToInteractive',\n",
       "                                                     [key], {});\n",
       "          if (!dataTable) return;\n",
       "\n",
       "          const docLinkHtml = 'Like what you see? Visit the ' +\n",
       "            '<a target=\"_blank\" href=https://colab.research.google.com/notebooks/data_table.ipynb>data table notebook</a>'\n",
       "            + ' to learn more about interactive tables.';\n",
       "          element.innerHTML = '';\n",
       "          dataTable['output_type'] = 'display_data';\n",
       "          await google.colab.output.renderOutput(dataTable, element);\n",
       "          const docLink = document.createElement('div');\n",
       "          docLink.innerHTML = docLinkHtml;\n",
       "          element.appendChild(docLink);\n",
       "        }\n",
       "      </script>\n",
       "    </div>\n",
       "  </div>\n",
       "  "
      ],
      "text/plain": [
       "Symbols     STOCK       ETF\n",
       "Symbols                    \n",
       "STOCK    0.000057 -0.000003\n",
       "ETF     -0.000003  0.000003"
      ]
     },
     "execution_count": 81,
     "metadata": {},
     "output_type": "execute_result"
    }
   ],
   "source": [
    "returns.cov()"
   ]
  },
  {
   "cell_type": "markdown",
   "metadata": {
    "id": "9qyrgLyDnwZM"
   },
   "source": [
    "Looking at the covariance matrix above, we can see that these two assets have a slightly negative relationship with each other."
   ]
  },
  {
   "cell_type": "markdown",
   "metadata": {
    "id": "dXnqcqBjrdCp"
   },
   "source": [
    "**Correlation**"
   ]
  },
  {
   "cell_type": "code",
   "execution_count": null,
   "metadata": {
    "colab": {
     "base_uri": "https://localhost:8080/",
     "height": 143
    },
    "id": "dhZPIGYLTKBS",
    "outputId": "d23cd658-b1fa-4493-bd2c-8cf940f3ede0"
   },
   "outputs": [
    {
     "data": {
      "text/html": [
       "\n",
       "  <div id=\"df-edd9ea13-d8b2-4570-9229-9a54b0bb6b90\">\n",
       "    <div class=\"colab-df-container\">\n",
       "      <div>\n",
       "<style scoped>\n",
       "    .dataframe tbody tr th:only-of-type {\n",
       "        vertical-align: middle;\n",
       "    }\n",
       "\n",
       "    .dataframe tbody tr th {\n",
       "        vertical-align: top;\n",
       "    }\n",
       "\n",
       "    .dataframe thead th {\n",
       "        text-align: right;\n",
       "    }\n",
       "</style>\n",
       "<table border=\"1\" class=\"dataframe\">\n",
       "  <thead>\n",
       "    <tr style=\"text-align: right;\">\n",
       "      <th>Symbols</th>\n",
       "      <th>STOCK</th>\n",
       "      <th>ETF</th>\n",
       "    </tr>\n",
       "    <tr>\n",
       "      <th>Symbols</th>\n",
       "      <th></th>\n",
       "      <th></th>\n",
       "    </tr>\n",
       "  </thead>\n",
       "  <tbody>\n",
       "    <tr>\n",
       "      <th>STOCK</th>\n",
       "      <td>1.000000</td>\n",
       "      <td>-0.277587</td>\n",
       "    </tr>\n",
       "    <tr>\n",
       "      <th>ETF</th>\n",
       "      <td>-0.277587</td>\n",
       "      <td>1.000000</td>\n",
       "    </tr>\n",
       "  </tbody>\n",
       "</table>\n",
       "</div>\n",
       "      <button class=\"colab-df-convert\" onclick=\"convertToInteractive('df-edd9ea13-d8b2-4570-9229-9a54b0bb6b90')\"\n",
       "              title=\"Convert this dataframe to an interactive table.\"\n",
       "              style=\"display:none;\">\n",
       "        \n",
       "  <svg xmlns=\"http://www.w3.org/2000/svg\" height=\"24px\"viewBox=\"0 0 24 24\"\n",
       "       width=\"24px\">\n",
       "    <path d=\"M0 0h24v24H0V0z\" fill=\"none\"/>\n",
       "    <path d=\"M18.56 5.44l.94 2.06.94-2.06 2.06-.94-2.06-.94-.94-2.06-.94 2.06-2.06.94zm-11 1L8.5 8.5l.94-2.06 2.06-.94-2.06-.94L8.5 2.5l-.94 2.06-2.06.94zm10 10l.94 2.06.94-2.06 2.06-.94-2.06-.94-.94-2.06-.94 2.06-2.06.94z\"/><path d=\"M17.41 7.96l-1.37-1.37c-.4-.4-.92-.59-1.43-.59-.52 0-1.04.2-1.43.59L10.3 9.45l-7.72 7.72c-.78.78-.78 2.05 0 2.83L4 21.41c.39.39.9.59 1.41.59.51 0 1.02-.2 1.41-.59l7.78-7.78 2.81-2.81c.8-.78.8-2.07 0-2.86zM5.41 20L4 18.59l7.72-7.72 1.47 1.35L5.41 20z\"/>\n",
       "  </svg>\n",
       "      </button>\n",
       "      \n",
       "  <style>\n",
       "    .colab-df-container {\n",
       "      display:flex;\n",
       "      flex-wrap:wrap;\n",
       "      gap: 12px;\n",
       "    }\n",
       "\n",
       "    .colab-df-convert {\n",
       "      background-color: #E8F0FE;\n",
       "      border: none;\n",
       "      border-radius: 50%;\n",
       "      cursor: pointer;\n",
       "      display: none;\n",
       "      fill: #1967D2;\n",
       "      height: 32px;\n",
       "      padding: 0 0 0 0;\n",
       "      width: 32px;\n",
       "    }\n",
       "\n",
       "    .colab-df-convert:hover {\n",
       "      background-color: #E2EBFA;\n",
       "      box-shadow: 0px 1px 2px rgba(60, 64, 67, 0.3), 0px 1px 3px 1px rgba(60, 64, 67, 0.15);\n",
       "      fill: #174EA6;\n",
       "    }\n",
       "\n",
       "    [theme=dark] .colab-df-convert {\n",
       "      background-color: #3B4455;\n",
       "      fill: #D2E3FC;\n",
       "    }\n",
       "\n",
       "    [theme=dark] .colab-df-convert:hover {\n",
       "      background-color: #434B5C;\n",
       "      box-shadow: 0px 1px 3px 1px rgba(0, 0, 0, 0.15);\n",
       "      filter: drop-shadow(0px 1px 2px rgba(0, 0, 0, 0.3));\n",
       "      fill: #FFFFFF;\n",
       "    }\n",
       "  </style>\n",
       "\n",
       "      <script>\n",
       "        const buttonEl =\n",
       "          document.querySelector('#df-edd9ea13-d8b2-4570-9229-9a54b0bb6b90 button.colab-df-convert');\n",
       "        buttonEl.style.display =\n",
       "          google.colab.kernel.accessAllowed ? 'block' : 'none';\n",
       "\n",
       "        async function convertToInteractive(key) {\n",
       "          const element = document.querySelector('#df-edd9ea13-d8b2-4570-9229-9a54b0bb6b90');\n",
       "          const dataTable =\n",
       "            await google.colab.kernel.invokeFunction('convertToInteractive',\n",
       "                                                     [key], {});\n",
       "          if (!dataTable) return;\n",
       "\n",
       "          const docLinkHtml = 'Like what you see? Visit the ' +\n",
       "            '<a target=\"_blank\" href=https://colab.research.google.com/notebooks/data_table.ipynb>data table notebook</a>'\n",
       "            + ' to learn more about interactive tables.';\n",
       "          element.innerHTML = '';\n",
       "          dataTable['output_type'] = 'display_data';\n",
       "          await google.colab.output.renderOutput(dataTable, element);\n",
       "          const docLink = document.createElement('div');\n",
       "          docLink.innerHTML = docLinkHtml;\n",
       "          element.appendChild(docLink);\n",
       "        }\n",
       "      </script>\n",
       "    </div>\n",
       "  </div>\n",
       "  "
      ],
      "text/plain": [
       "Symbols     STOCK       ETF\n",
       "Symbols                    \n",
       "STOCK    1.000000 -0.277587\n",
       "ETF     -0.277587  1.000000"
      ]
     },
     "execution_count": 82,
     "metadata": {},
     "output_type": "execute_result"
    }
   ],
   "source": [
    "returns.corr()"
   ]
  },
  {
   "cell_type": "markdown",
   "metadata": {
    "id": "QOKlpPqMqa2Z"
   },
   "source": [
    "The two assets have negative relationship but this relationship is weak since we have obtained a -0.27 Pearson's correlation coefficient."
   ]
  },
  {
   "cell_type": "code",
   "execution_count": null,
   "metadata": {
    "colab": {
     "base_uri": "https://localhost:8080/",
     "height": 312
    },
    "id": "hvWbOvyZTJ92",
    "outputId": "0e9cf770-02e4-49da-fc94-9e374579860b"
   },
   "outputs": [
    {
     "data": {
      "text/plain": [
       "[<matplotlib.lines.Line2D at 0x7efda37c1b90>]"
      ]
     },
     "execution_count": 83,
     "metadata": {},
     "output_type": "execute_result"
    },
    {
     "data": {
      "image/png": "[encoded data removed]",
      "text/plain": [
       "<Figure size 432x288 with 1 Axes>"
      ]
     },
     "metadata": {
      "needs_background": "light"
     },
     "output_type": "display_data"
    }
   ],
   "source": [
    "chart = sns.regplot(x='STOCK', y='ETF', data=returns).set(\n",
    "    title=\"Figure 1: Daily Stock Returns vs ETF Returns\"\n",
    ")\n",
    "\n",
    "plt.axvline(0, 0, 1, dash_capstyle=\"butt\", linestyle=\"--\", color=\"grey\")\n",
    "plt.plot([min(returns.STOCK), max(returns.ETF)], [0, 0], linestyle=\"--\", color=\"grey\")"
   ]
  },
  {
   "cell_type": "markdown",
   "metadata": {
    "id": "IGmmGju62DtR"
   },
   "source": [
    "### **Section 3: Examples using real-world applications** (Step 6)"
   ]
  },
  {
   "cell_type": "markdown",
   "metadata": {
    "id": "eM9iH6SLBXLg"
   },
   "source": [
    " As was seen in the sections above, volatility and statistical related risk go hand by hand, though it may be hard to understand from the formal concept, mathematical expressions and plots. It becomes quite simple to understand once one considers real world examples.\n",
    "\n",
    " According to Vinte et al [1] \"Volatility can be defined as how much the prices of a given instrument varies within a certain time interval\". Of course one may only define variations of something with respect to something else a good practice is to measure it with respect the price of the asset a period of time before (for example 24h), this is further complicated by the fact that the dispersion of the price across a time frame gives multiple types of information, which can be perceived as [1]:\n",
    "\n",
    "1 - Amplitude (Difference between the highest and lowest price) in the example of the ETF above that would be $\\underbrace{85.22}_{Maximum \\hspace{0.1cm} price}-\\underbrace{62.40}_{Minimum \\hspace{0.1cm} price} = \\underbrace{22.82}_{Amplitude}$\n",
    "\n",
    "2 - Deviation from a reference level (for example the average price on the range)\n",
    "\n",
    "3 - The degree of interest that the instrument receives from the investors, when connected with the traded volume at a given price level\n",
    "\n",
    "4 - The amplitude of the price changes, in connection with the frequency of changes;\n",
    "frequent movement or slow directional changes following a certain trend, in terms of\n",
    "going up or going down\n",
    "\n",
    "Based on those many methods  for estimating volatily has been devised, the most common one is close to close which is usually presented in reports from financial journals or products [2]. However all those methods rely on the statistical standard deviation, what is difference about them is how the data is sampled or taken into consideration, and how one may use the standard deviation to calculate different volatility indicators, in [1] it is used to quantify entropy and it is then compared with several other volatility indicators such as Parkinson, Garman-Klass and Rogers-Satchell. The bechmark of indicators was computed on the SPY500,Down jones index .. etc and yielded inconclusive results, none is better than the other in the full time frame only on different days. So one should take into account several indicators of volatility.\n",
    "\n",
    "\n",
    "Now let's talk about statistical related risk, which is quite related to volatility and in some sense may be seen as the cause for it. As a free market the prices of assets vary based on many factors such as supply and demand, speculation, rumors, news .. etc. Due to the price fluctuation (which is precisely volatility) one may loose (or even gain) money if pulling out an investment during a fluctuation. The practice of quantifying the chance of loosing money to fluctuations is often called risk management [3] and it aims to lower the statistical related risk. Of course not all price fluctuations are bad, while for volatility one wants to take into account both fluctuations towards lower prices and fluctuations towards higher prices as the same, when talking about statistical risk one only wants take into account the ones that affect you (those that make you loose money) so instead of the standard deviation things like the Sharpe ratio, VaR ,CVaR ... etc\n",
    "\n",
    "Finally and just before going into real world examples, let us talk about correlation, though it sounds fairly general the usual measure that is pearson correlation only measures **linear** relashionships between variables, in finance from a practical point of view it means that a positive correlation (0 to 1) indicates that two assets are likely to move in the same direction (their prices are affected by similar factors) the higher the correaltion the more likely, a negative correlation indicates that they tend to move in opposite directions and 0 means there is no clear relatioship between them.\n",
    "\n",
    "These 3 concepts are all intimately related and often whenever talking about one of them in real world cases the three of them are involved. For example according to Akshay Chinchalkar and Ishika Mookerjee [4] from bloomberg technology, due to the Ukranian-Russian war the correlations between Bonds and Oil have changed directions  \n",
    "\n",
    "<img src='https://drive.google.com/uc?id=1azykMtHt8SCpTVC4QVC8jfqc_zjDUKqL'>\n",
    "\n",
    "Image taken from [4], From the image we can see that the correlation should be computed quite often when dealing with real world applications since it may change drastically and flip signs in situations such as the current war, or the covif pandemic (2019 dip), this change of correlation affects risks significantly as the standard devation of a portfolio (for a two asset porfolio) is given by\n",
    "\n",
    "$\\sigma_{p}= \\sqrt{(w_{1} \\sigma_{1})^{2} +(w_{2} \\sigma_{2})^{2}+ 2 w_{1} w_{2} \\rho \\sigma_{1} \\sigma_{2}}$\n",
    "\n",
    "Where $w_{i}$ refers to the weight of the asset on the portfolio, $\\sigma_{i}$ is the standard deviation and $\\rho$ is the correlation between the assets. If the correlation flips sign the volatility of our portfolio changes as well and we should adjust it to our desired risk. In this example the change in the standard deviation of the portfolio has to do with point 4 from our list. As oil is one of the basis for the energy industry people expect that rises may increase inflation [4] (which we now know is what happened) so they moved away from bonds as they expected inflation to be higher that the interests the bond pays, as a reaction the fed has been raising their bond yields [5] (what this means is that they pay bond holders more to increase their expected return so that their risk to inflation is lower), however the bond market is still on a downtrend [6], such as situation has made 2022 as specially volatile bear market [7] due to uncertainty of what securities should be considered safe or risky amid this year's economical crisis, starting in february with the war, the stock market crash and the cryptocurrency industry going from 3 trillion to 1 trillion dollars  \n",
    "\n",
    "\n",
    "Article [7] is a reminder to seasoned investors that volatility, correlations, and risk are ever changing and one should be particularly careful in times of high volatility, since correlations change and it makes the market more risky for everyone, such volatile times often lead to financial crisis. \n",
    "\n",
    "When thinking about volatility and risk the hardest part is perhaps when to cut your investments and take a loss or profit. In [7] it is adviced that during volatile times (and always) you check your tolerance to risk and take steps to prevent going beyond it. It is also advised to diversify even more during such times since the higher the volatility the more unpredictable the market becomes [1]\n",
    "\n",
    "\n",
    "Another contemporary example is [8]\n",
    "\n",
    "\n",
    "\n",
    " [1] https://www.mdpi.com/1099-4300/23/4/484\n",
    "\n",
    " [2] https://www.bloomberg.com/professional/blog/volatilitys-a-mean-reverting-asset-but-speed-level-are-unclear/\n",
    "\n",
    " [3] https://www.investopedia.com/ask/answers/041415/what-are-some-common-measures-risk-used-risk-management.asp \n",
    "\n",
    " [4] https://www.bloomberg.com/news/articles/2022-03-02/cascade-of-russia-risks-stir-market-correlations-that-can-t-last?leadSource=uverify%20wall\n",
    "\n",
    " [5] https://finance.yahoo.com/news/treasuries-u-10-yields-rise-195456722.html?guccounter=1&guce_referrer=aHR0cHM6Ly93d3cuZ29vZ2xlLmNvbS8&guce_referrer_sig=AQAAAE2vuSrgp2s2iUKEne4vBM2vJnu4I6hGCvh23D5pIRkitbPh3Suf_Jc7JLq0bYdeLEBaO6CoOUWszXKRLoaCRSYFb1BSElg5bF99QE5wuzkdG0tublE0dxYHyfvJAw9z7GU4Ab8hgqlbwHZOpVNixAgxhgjfqUOB0255XRaYegl9\n",
    "\n",
    " [6] https://www.bloomberg.com/news/articles/2022-10-21/treasuries-tumble-into-longest-slump-since-1984-on-hawkish-fed\n",
    "\n",
    " [7] https://www.bloomberg.com/news/articles/2022-02-17/investing-ideas-how-to-protect-your-portfolio-from-a-volatile-market\n",
    "\n",
    " [8] https://www.bloomberg.com/news/articles/2022-10-22/bitcoin-s-btc-changing-correlations-may-mean-it-ll-be-a-haven-again-bofa-says?leadSource=uverify%20wall"
   ]
  },
  {
   "cell_type": "code",
   "execution_count": null,
   "metadata": {
    "id": "AF8UUYp_2KVz"
   },
   "outputs": [],
   "source": []
  },
  {
   "cell_type": "code",
   "execution_count": null,
   "metadata": {
    "id": "9fRjxy6Z2KSZ"
   },
   "outputs": [],
   "source": []
  },
  {
   "cell_type": "code",
   "execution_count": null,
   "metadata": {
    "id": "Y2en-nN-2KPK"
   },
   "outputs": [],
   "source": []
  },
  {
   "cell_type": "code",
   "execution_count": null,
   "metadata": {
    "id": "cEc5t-fM2KMb"
   },
   "outputs": [],
   "source": []
  },
  {
   "cell_type": "code",
   "execution_count": null,
   "metadata": {
    "id": "wyveKGLs2KJq"
   },
   "outputs": [],
   "source": []
  },
  {
   "cell_type": "code",
   "execution_count": null,
   "metadata": {
    "id": "GJ2YiZTdz5HR"
   },
   "outputs": [],
   "source": []
  }
 ],
 "metadata": {
  "colab": {
   "collapsed_sections": [],
   "provenance": []
  },
  "kernelspec": {
   "display_name": "Python 3 (ipykernel)",
   "language": "python",
   "name": "python3"
  },
  "language_info": {
   "codemirror_mode": {
    "name": "ipython",
    "version": 3
   },
   "file_extension": ".py",
   "mimetype": "text/x-python",
   "name": "python",
   "nbconvert_exporter": "python",
   "pygments_lexer": "ipython3",
   "version": "3.9.1"
  }
 },
 "nbformat": 4,
 "nbformat_minor": 4
}
