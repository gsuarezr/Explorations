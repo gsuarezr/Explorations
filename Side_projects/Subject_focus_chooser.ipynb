{
 "cells": [
  {
   "cell_type": "code",
   "execution_count": 1,
   "id": "e0a33810-fe25-4f48-ac58-db80dbba62c7",
   "metadata": {},
   "outputs": [],
   "source": [
    "list_subjects_work= [\"Condensed Matter\",\"Machine learning For physicists\", \"Statistical Mechanics-Thermodynamics\",\"Quantum Control\",\"Tensor Networks\",\n",
    "                \"Computational Physics\",\"Quantum Machine Learning\",\"Optomechanics\",\"Nonlinear Dynamics\",\"Quantum Chemistry\",\"Quantum Biology\",\n",
    "                    \"Stochastic Thermodynamics and electrical circuits\",\"Renormalization Group\",\"Many Body Physics\"]\n",
    "list_subjects_growth=[\"Data Science\",\"Reinceforment learning\",\"Machine learning For Science\",\"Numerical Methods\",\"HPC\"]"
   ]
  },
  {
   "cell_type": "code",
   "execution_count": 2,
   "id": "52acfbc3-55e8-4776-969b-9df7bc4e37d7",
   "metadata": {},
   "outputs": [],
   "source": [
    "from random import choice"
   ]
  },
  {
   "cell_type": "code",
   "execution_count": 13,
   "id": "fb3e474c-0d57-457e-8270-9ebf1d1669a1",
   "metadata": {},
   "outputs": [
    {
     "data": {
      "text/plain": [
       "'Reinceforment learning'"
      ]
     },
     "execution_count": 13,
     "metadata": {},
     "output_type": "execute_result"
    }
   ],
   "source": [
    "choice(list_subjects_growth)"
   ]
  },
  {
   "cell_type": "code",
   "execution_count": null,
   "id": "a8bca606-e58e-4bc5-9b35-f31f0a13754a",
   "metadata": {},
   "outputs": [],
   "source": []
  }
 ],
 "metadata": {
  "kernelspec": {
   "display_name": "Python 3 (ipykernel)",
   "language": "python",
   "name": "python3"
  },
  "language_info": {
   "codemirror_mode": {
    "name": "ipython",
    "version": 3
   },
   "file_extension": ".py",
   "mimetype": "text/x-python",
   "name": "python",
   "nbconvert_exporter": "python",
   "pygments_lexer": "ipython3",
   "version": "3.9.7"
  }
 },
 "nbformat": 4,
 "nbformat_minor": 5
}
